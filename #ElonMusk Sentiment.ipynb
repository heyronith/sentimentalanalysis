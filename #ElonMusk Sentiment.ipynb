{
  "cells": [
    {
      "cell_type": "markdown",
      "metadata": {
        "id": "view-in-github",
        "colab_type": "text"
      },
      "source": [
        "<a href=\"https://colab.research.google.com/github/heyronith/sentimentalanalysis/blob/main/%23ElonMusk%20Sentiment.ipynb\" target=\"_parent\"><img src=\"https://colab.research.google.com/assets/colab-badge.svg\" alt=\"Open In Colab\"/></a>"
      ]
    },
    {
      "cell_type": "code",
      "execution_count": 5,
      "metadata": {
        "id": "0nhBehjdxOdi"
      },
      "outputs": [],
      "source": [
        "import tweepy as tw\n",
        "import pandas as pd\n",
        "import numpy as np\n",
        "from textblob import TextBlob\n",
        "from wordcloud import WordCloud\n",
        "import re\n",
        "import matplotlib.pyplot as plt\n",
        "plt.style.use('fivethirtyeight') \n"
      ]
    },
    {
      "cell_type": "code",
      "execution_count": 6,
      "metadata": {
        "id": "wS8AoqQgyaj6"
      },
      "outputs": [],
      "source": [
        "consumer_key='Lgvm5nxlT7MeDqemfytZnbD4h'\n",
        "consumer_secret='omLNO595LoxcMmy1RSrD0w7QCDipqkwjpJVsnv6P4iZnH77b5B'\n",
        "access_token='1547442958382809088-a4Rj1SY9Bvmn7TCuWSGdM06V5QyMly'\n",
        "access_token_secret='TA3dplCocME6ibTxG5yYr56K7g0wRFmpUJyLVJvTjXQpm'"
      ]
    },
    {
      "cell_type": "code",
      "execution_count": 7,
      "metadata": {
        "id": "fUtjY23EykLx"
      },
      "outputs": [],
      "source": [
        "#auth twitter\n",
        "\n",
        "auth= tw.OAuthHandler(consumer_key,consumer_secret)\n",
        "auth.set_access_token(access_token,access_token_secret)\n",
        "api= tw.API(auth,wait_on_rate_limit=True)"
      ]
    },
    {
      "cell_type": "code",
      "execution_count": 8,
      "metadata": {
        "id": "UeuVrj76y7fy"
      },
      "outputs": [],
      "source": [
        "#getting the tweets\n",
        "hashtag = '#ElonMusk'\n",
        "query= tw.Cursor(api.search, q=hashtag).items(1000)\n",
        "tweets=[{\"Tweets\":tweet.text, 'Timestamp':tweet.created_at} for tweet in query]\n"
      ]
    },
    {
      "cell_type": "code",
      "source": [
        "print(tweets)"
      ],
      "metadata": {
        "colab": {
          "base_uri": "https://localhost:8080/"
        },
        "id": "H8KzQ-JXY9SA",
        "outputId": "c156473f-08e9-4bfc-bbae-33c95f49f4a1"
      },
      "execution_count": 11,
      "outputs": [
        {
          "output_type": "stream",
          "name": "stdout",
          "text": [
            "[{'Tweets': 'RT @metabilliards: Meta Billiards challange! \\n\\nClick here and participate for a chance to win great prizes! 👇👇👇👇👇\\n\\nhttps://t.co/nOHBSJQ8yN…', 'Timestamp': datetime.datetime(2022, 7, 24, 5, 0, 47)}, {'Tweets': 'Elon Musk’s Tesla has revealed in their second quarter update that they sold 75 per cent of their Bitcoin purchases… https://t.co/V3BAb5HS5i', 'Timestamp': datetime.datetime(2022, 7, 24, 5, 0, 33)}, {'Tweets': 'RT @MarkFarentino: Felicity BoulAvard atBook Distributors Worldwide https://t.co/p7jZxEKsFz…#ElClasico #ECGproductions #ElonMusk #ENGvIND #…', 'Timestamp': datetime.datetime(2022, 7, 24, 5, 0, 10)}, {'Tweets': 'RT @LunchWithElonM: Day 102 of asking @elonmusk to lunch :) \\n-----------------------------------------\\n\\nEver look at some conspiracies peop…', 'Timestamp': datetime.datetime(2022, 7, 24, 5, 0, 1)}, {'Tweets': '#ElonMusk #avrupa #AMERIKA #RecepTayyipErdogan #Japonya lütfen gerçek desteğinizi verin, Ukrayna 5 ay aydır Rusya’n… https://t.co/l52rF0jGs9', 'Timestamp': datetime.datetime(2022, 7, 24, 4, 59, 19)}, {'Tweets': 'RT @eze_fi: 1. Retweet\\n2. Follow us on TWITTER, DISCORD, INSTAGRAM &amp; TELEGRAM\\n3. Get EZE Tokens\\n\\nFollow @kennycuevas_ \\n------------------\\nh…', 'Timestamp': datetime.datetime(2022, 7, 24, 4, 58, 23)}, {'Tweets': 'RT @SAUDISHIBTOKEN: Tomorrow will be a great day...😎🚀🚀🚀🚀😏\\n\\n#SaudiShibaInu #SAUDISHIB #SAUDISHIBTOKEN #SHIB #Shiboshis #BSC #BinanceSmartCha…', 'Timestamp': datetime.datetime(2022, 7, 24, 4, 57, 57)}, {'Tweets': 'RT @Squadron_Five: Serious #NFTs💪\\nSerious #Metaverse🌏\\nSerious Goals🤝\\n#SquadronV #NFT #Solana #Metaverse #ElonMusk https://t.co/nzjRSRICVG', 'Timestamp': datetime.datetime(2022, 7, 24, 4, 56, 22)}, {'Tweets': 'RT @TolanDeka: Very rightly said by #ElonMusk that #ArtificialIntelligence are far more dangerous than nukes', 'Timestamp': datetime.datetime(2022, 7, 24, 4, 56, 17)}, {'Tweets': 'Very rightly said by #ElonMusk that #ArtificialIntelligence are far more dangerous than nukes', 'Timestamp': datetime.datetime(2022, 7, 24, 4, 56, 12)}, {'Tweets': 'RT @vabby_16: @elonmusk #ElonMusk  u should charge royalty for every tweet u did...\\n\\nCaz twitter now days boring nd full of haterate place.…', 'Timestamp': datetime.datetime(2022, 7, 24, 4, 55, 54)}, {'Tweets': '@elonmusk #babygolunft #NFT #NFTCommunity #ElonMusk #CZBinance https://t.co/yOgvq1dTnG', 'Timestamp': datetime.datetime(2022, 7, 24, 4, 55, 33)}, {'Tweets': 'RT @elvisocc: #ElonMusk dueño de #Tesla y SpaceX, dijo que pondría 25 millones de dólares en la campaña del candidato presidencial que esco…', 'Timestamp': datetime.datetime(2022, 7, 24, 4, 55, 27)}, {'Tweets': '@metabilliards Accept the challenge so that you can feel the joy of victory.and I participated in this event hopefu… https://t.co/66C7COcOAw', 'Timestamp': datetime.datetime(2022, 7, 24, 4, 54, 8)}, {'Tweets': 'RT @metabilliards: Meta Billiards challange! \\n\\nClick here and participate for a chance to win great prizes! 👇👇👇👇👇\\n\\nhttps://t.co/nOHBSJQ8yN…', 'Timestamp': datetime.datetime(2022, 7, 24, 4, 53, 1)}, {'Tweets': 'Topraklarında her ürünü yetiştirmeye müsait iklime sahip bir ülke, savaştaki iki ülkeden tahıl ithalatı için sevini… https://t.co/GsXaseFGjh', 'Timestamp': datetime.datetime(2022, 7, 24, 4, 52, 32)}, {'Tweets': 'RT @metabilliards: Meta Billiards challange! \\n\\nClick here and participate for a chance to win great prizes! 👇👇👇👇👇\\n\\nhttps://t.co/nOHBSJQ8yN…', 'Timestamp': datetime.datetime(2022, 7, 24, 4, 51, 9)}, {'Tweets': \"#HeavyMetal #Tesla #ElonMusk @HeavyMetalInk https://t.co/JGbAce5tPZ\\nI've been busy making this...\", 'Timestamp': datetime.datetime(2022, 7, 24, 4, 50, 30)}, {'Tweets': 'RT @erickmilanpunto: @elonmusk cada vez quiere parecerce más a @RicardoBSalinas \\n\\n😱Ahora quiere crear una súperapp como @bazsuperapp\\n\\n#Elon…', 'Timestamp': datetime.datetime(2022, 7, 24, 4, 50, 27)}, {'Tweets': 'Please list our @RDNE_TOKEN extraordinary project.\\n@Nova_DAX\\n@binance\\n@gate_io\\n@coinbase\\n@MercadoBitcoin… https://t.co/2OWv3TgeTp', 'Timestamp': datetime.datetime(2022, 7, 24, 4, 49, 43)}, {'Tweets': 'Cellatımız gizliden gizliye  uzaya sözde uyduları atarken biz hala yaptığı işi beğeniyor \"aman ne büyük teknoloji\"… https://t.co/4ZzcI4FPOO', 'Timestamp': datetime.datetime(2022, 7, 24, 4, 49, 18)}, {'Tweets': '@JaneidyEve @JaneidyEve It will help!! And I hope at #Starbase #ElonMusk @elonmusk does this from #Falcon : https://t.co/JX7Y5IBBu7', 'Timestamp': datetime.datetime(2022, 7, 24, 4, 49, 16)}, {'Tweets': \"RT @cartoonsbyjim: This week's NEW #cartoon for @ITP_nz as #ElonMusk and #Twitter set a court date. https://t.co/pWz4t7hHFW\", 'Timestamp': datetime.datetime(2022, 7, 24, 4, 48, 13)}, {'Tweets': '@elonmusk @SpaceX Me if I was #ElonMusk and owned a #RocketCompany  lol 😂 \\n\\n#YuGiOh #YuGiOhDuelMonster… https://t.co/4fVlfh1w8Y', 'Timestamp': datetime.datetime(2022, 7, 24, 4, 46, 58)}, {'Tweets': 'RT @vedicfolkscom: Brahmasirakandeeswarar Temple is an incredible temple in Thanjavur, Tamil Nadu, India. Here mighty Lord Shiva is admired…', 'Timestamp': datetime.datetime(2022, 7, 24, 4, 46, 15)}, {'Tweets': 'RT @Zerenakyuz3: Just now in Istanbul\\nSON DAKIKA ISTANBUL’DA \\n\\nElon musks Starlinks over Turkiye 🇹🇷 #Istanbul #Sondakika #starlink #elonmus…', 'Timestamp': datetime.datetime(2022, 7, 24, 4, 45, 35)}, {'Tweets': 'RT @metabilliards: Meta Billiards challange! \\n\\nClick here and participate for a chance to win great prizes! 👇👇👇👇👇\\n\\nhttps://t.co/nOHBSJQ8yN…', 'Timestamp': datetime.datetime(2022, 7, 24, 4, 44, 8)}, {'Tweets': '@MiloInu @elonmusk @SpaceX Believe Sir #Elon will make the day comes earlier! \\n\\n#Elonmusk #Milo #Mars', 'Timestamp': datetime.datetime(2022, 7, 24, 4, 44, 1)}, {'Tweets': 'RT @GHosein33: 💎 #PIT 💎 @BscPitbull 🌐♨\\n\\n#PITBULL #pitbulltoken #ElonMusk @elonmusk #NFTs #Crypto #cryptocurrency #web3 #altcoin #NFT #shiba…', 'Timestamp': datetime.datetime(2022, 7, 24, 4, 43, 53)}, {'Tweets': 'RT @eze_fi: 1. Retweet\\n2. Follow us on TWITTER, DISCORD, INSTAGRAM &amp; TELEGRAM\\n3. Get EZE Tokens\\n\\nFollow @kennycuevas_ \\n------------------\\nh…', 'Timestamp': datetime.datetime(2022, 7, 24, 4, 43, 18)}, {'Tweets': '@elonmusk @SpaceX When is the DOGE-1 mission to the moon?@dogecoin @dogecoin_devs #DogecoinToTheMoon #Doge #Doge #ElonMusk', 'Timestamp': datetime.datetime(2022, 7, 24, 4, 42, 48)}, {'Tweets': '@elonmusk someone else using #elonmusk twitter \\nSource : none crypto supported by him from long time so he is not… https://t.co/47KFTWa4L0', 'Timestamp': datetime.datetime(2022, 7, 24, 4, 42, 12)}, {'Tweets': 'Give me a job in space X #ElonMusk \\n@elonmusk', 'Timestamp': datetime.datetime(2022, 7, 24, 4, 42, 12)}, {'Tweets': \"RT @alaturkaonline: SpaceX'in yüksek hızda internet için uzaya gönderdiği Starlink uyduları Türkiye üzerinden geçerken görüntülendi. #space…\", 'Timestamp': datetime.datetime(2022, 7, 24, 4, 41, 54)}, {'Tweets': 'RT @metabilliards: Meta Billiards challange! \\n\\nClick here and participate for a chance to win great prizes! 👇👇👇👇👇\\n\\nhttps://t.co/nOHBSJQ8yN…', 'Timestamp': datetime.datetime(2022, 7, 24, 4, 41, 41)}, {'Tweets': 'The question Elon Musk needs to answer is, what is more important? Freedom of speech or paying too much for a globa… https://t.co/o4q3JtHnVf', 'Timestamp': datetime.datetime(2022, 7, 24, 4, 40, 32)}, {'Tweets': \"RT @mit_ide: 🎧New podcast episode: 'The Digital Insider with @sinanaral' out now w/ guest @GaryMarcus on the quest for general artificial i…\", 'Timestamp': datetime.datetime(2022, 7, 24, 4, 39, 57)}, {'Tweets': 'RT @sumitkapoor16: Binance CEO says Twitter is slightly overpriced but he will support whatever Elon Musk decides.\\n\\n#Binance #Twitter #Elon…', 'Timestamp': datetime.datetime(2022, 7, 24, 4, 39, 40)}, {'Tweets': \"#ElonMusk's #SpaceX on Friday broke its record for the number of rockets launched in a calendar year, topping last… https://t.co/cW59PWRKNs\", 'Timestamp': datetime.datetime(2022, 7, 24, 4, 39, 23)}, {'Tweets': 'RT @metabilliards: Meta Billiards challange! \\n\\nClick here and participate for a chance to win great prizes! 👇👇👇👇👇\\n\\nhttps://t.co/nOHBSJQ8yN…', 'Timestamp': datetime.datetime(2022, 7, 24, 4, 39, 14)}, {'Tweets': 'RT @Rocky_Balthboa: Reminder: No matter how many times Elon Musk tweets about who he is going to vote for, he STILL only gets ONE vote. Don…', 'Timestamp': datetime.datetime(2022, 7, 24, 4, 38, 59)}, {'Tweets': \"#FuckTwitter Nazi's\\n\\n#TreVoices permanently suspended by twitter scumbags. #ElonMusk needs to take over ASAP https://t.co/cTyXD3RJyh\", 'Timestamp': datetime.datetime(2022, 7, 24, 4, 38, 59)}, {'Tweets': '@elonmusk Then please with 🍆 #ElonMusk', 'Timestamp': datetime.datetime(2022, 7, 24, 4, 38, 46)}, {'Tweets': 'Reminder: No matter how many times Elon Musk tweets about who he is going to vote for, he STILL only gets ONE vote.… https://t.co/EWmK9NHj0u', 'Timestamp': datetime.datetime(2022, 7, 24, 4, 38, 39)}, {'Tweets': '@elonmusk @SpaceX #ELONONE #ElonMusk #SoaceX  to the MOOOON', 'Timestamp': datetime.datetime(2022, 7, 24, 4, 38, 37)}, {'Tweets': \"RT @WhaleVentures1: Elon, you don't understand Bitcoin.\\n\\n#Bitcoin #ElonMusk #elon #tesla  #BTC https://t.co/ALZ19RrRew\", 'Timestamp': datetime.datetime(2022, 7, 24, 4, 37, 30)}, {'Tweets': 'RT @eze_fi: 1. Retweet\\n2. Follow us on TWITTER, DISCORD, INSTAGRAM &amp; TELEGRAM\\n3. Get EZE Tokens\\n\\nFollow @kennycuevas_ \\n------------------\\nh…', 'Timestamp': datetime.datetime(2022, 7, 24, 4, 36, 7)}, {'Tweets': '@crypDOEbags @DOEARMYUNITED @WatcherGuru @coingecko @dogsofelon Please support @dogsofelon @MrChuckyKo  This commun… https://t.co/b14BRVYvMD', 'Timestamp': datetime.datetime(2022, 7, 24, 4, 34, 39)}, {'Tweets': '💎 #PIT 💎 @BscPitbull 🌐♨\\n\\n#PITBULL #pitbulltoken #ElonMusk @elonmusk #NFTs #Crypto #cryptocurrency #web3 #altcoin… https://t.co/2XfsasZpnB', 'Timestamp': datetime.datetime(2022, 7, 24, 4, 34, 20)}, {'Tweets': 'RT @stockmarketspro: @elonmusk #ElonMusk #Starlink https://t.co/f3uJdj7bqw', 'Timestamp': datetime.datetime(2022, 7, 24, 4, 31, 23)}, {'Tweets': 'RT @EMSIDEM: If you get up in the morning and think the future is going to be better, it is a bright day. @x_cabin #ElonMusk \\n\\n-777 Mint Pa…', 'Timestamp': datetime.datetime(2022, 7, 24, 4, 31, 9)}, {'Tweets': '#LTC #dogecoin #elonmusk #XLM #XRP #BCH #Algo #QNT #Shib https://t.co/HCnkatvRdp', 'Timestamp': datetime.datetime(2022, 7, 24, 4, 30, 28)}, {'Tweets': 'RT @AstroSmokey68: WIP @TotalitasWattz @AstroSmokey68 @elonmusk #3Dprinting #Mechazilla #BocaChicaToMars #ElonMusk #SpaceX #Starbase #Moon…', 'Timestamp': datetime.datetime(2022, 7, 24, 4, 30, 3)}, {'Tweets': 'RT @metabilliards: Meta Billiards challange! \\n\\nClick here and participate for a chance to win great prizes! 👇👇👇👇👇\\n\\nhttps://t.co/nOHBSJQ8yN…', 'Timestamp': datetime.datetime(2022, 7, 24, 4, 29, 17)}, {'Tweets': 'RT @sumitkapoor16: Binance CEO says Twitter is slightly overpriced but he will support whatever Elon Musk decides.\\n\\n#Binance #Twitter #Elon…', 'Timestamp': datetime.datetime(2022, 7, 24, 4, 28, 14)}, {'Tweets': 'RT @sumitkapoor16: Binance CEO says Twitter is slightly overpriced but he will support whatever Elon Musk decides.\\n\\n#Binance #Twitter #Elon…', 'Timestamp': datetime.datetime(2022, 7, 24, 4, 27, 34)}, {'Tweets': 'Binance CEO says Twitter is slightly overpriced but he will support whatever Elon Musk decides.\\n\\n#Binance #Twitter #Elonmusk', 'Timestamp': datetime.datetime(2022, 7, 24, 4, 27, 13)}, {'Tweets': 'RT @erickmilanpunto: @elonmusk cada vez quiere parecerce más a @RicardoBSalinas \\n\\n😱Ahora quiere crear una súperapp como @bazsuperapp\\n\\n#Elon…', 'Timestamp': datetime.datetime(2022, 7, 24, 4, 26, 44)}, {'Tweets': \"@cz_binance It's to boost the usage outlook &amp; profits for shareholders that brings advertising and sponsorships to… https://t.co/rOyx3wqMiU\", 'Timestamp': datetime.datetime(2022, 7, 24, 4, 26, 20)}, {'Tweets': 'RT @metabilliards: Meta Billiards challange! \\n\\nClick here and participate for a chance to win great prizes! 👇👇👇👇👇\\n\\nhttps://t.co/nOHBSJQ8yN…', 'Timestamp': datetime.datetime(2022, 7, 24, 4, 25, 36)}, {'Tweets': 'https://t.co/LtQFOVsJLW\\n1bn termination fee + 33m = 1.33bn whatever the outcome it’s a win win situation for… https://t.co/wQuU0Eiru1', 'Timestamp': datetime.datetime(2022, 7, 24, 4, 25, 30)}, {'Tweets': \"Show pice's \\nLamb\\n#ElonMusk https://t.co/2Qf8kiVs8S\", 'Timestamp': datetime.datetime(2022, 7, 24, 4, 25, 23)}, {'Tweets': 'ब्रेकिंग न्युज 😃#MumbaiPolice #RealEstateBroker Vijaywankhede #MumbaiWeather #releshanshep #ElonMusk #realestatemarket #', 'Timestamp': datetime.datetime(2022, 7, 24, 4, 24, 48)}, {'Tweets': 'RT @eemmasofija: 11 │ \\n\\n\"Emma Sofija from Denmark in a Tesla campaign, digital art\" made with DALL-E 2\\n\\n#dalle #dalle2 #openai #ai #Metaver…', 'Timestamp': datetime.datetime(2022, 7, 24, 4, 24)}, {'Tweets': '@elonmusk #ElonMusk #Starlink https://t.co/f3uJdj7bqw', 'Timestamp': datetime.datetime(2022, 7, 24, 4, 22, 27)}, {'Tweets': 'RT @Alima1000: \"Pule Mabe\" \"Trump Dump\" 🤮\\n\\nIncompetence @RSASIU\\nCorruption @CMScares4u\\nRacism @GEMS_Number1\\n\\n👇🏽🧑🏿\\u200d⚕️\\U0001fa7a\\nhttps://t.co/wZ0UFgh0…', 'Timestamp': datetime.datetime(2022, 7, 24, 4, 22, 24)}, {'Tweets': 'RT @maugaasam: The Only Duo that cares about population rate @elonmusk w @Cristiano \\n.\\n#ElonMusk #CristianoRonaldo https://t.co/WmewcvMmhX', 'Timestamp': datetime.datetime(2022, 7, 24, 4, 22, 19)}, {'Tweets': 'The Only Duo that cares about population rate @elonmusk w @Cristiano \\n.\\n#ElonMusk #CristianoRonaldo https://t.co/WmewcvMmhX', 'Timestamp': datetime.datetime(2022, 7, 24, 4, 21, 38)}, {'Tweets': 'RT @Alima1000: #SouthAfricanGP\\n\\nWe have a responsibility to push the conversation forward until we’re all equal in the Universe.\\n\\n#MedicalA…', 'Timestamp': datetime.datetime(2022, 7, 24, 4, 20, 23)}, {'Tweets': 'RT @Alima1000: #NationalShutdown\\n\\nDr Stan Moloabi (PO of GEMS) is incompetent, constitutional delinquent and suffering from self-hate.\\n\\n👇🏽…', 'Timestamp': datetime.datetime(2022, 7, 24, 4, 20, 3)}, {'Tweets': 'RT @Alima1000: #NationalShutdown\\n\\nDr Stan Moloabi (PO of GEMS) is incompetent, constitutional delinquent and suffering from self-hate.\\n\\n👇🏽…', 'Timestamp': datetime.datetime(2022, 7, 24, 4, 20, 1)}, {'Tweets': \"Türkiye'deki görüntülere NASA'dan açıklama: UFO değil!\\n\\nhttps://t.co/YjnsscviU1\\n\\n#Turkiye #NASA #Spacex #ElonMusk… https://t.co/G3zp0Oy4LY\", 'Timestamp': datetime.datetime(2022, 7, 24, 4, 20)}, {'Tweets': 'RT @Alima1000: #NationalShutdown\\n\\nDr Stan Moloabi (PO of GEMS) is incompetent, constitutional delinquent and suffering from self-hate.\\n\\n👇🏽…', 'Timestamp': datetime.datetime(2022, 7, 24, 4, 19, 50)}, {'Tweets': 'RT @Alima1000: #NationalShutdown\\n\\nDr Stan Moloabi (PO of GEMS) is incompetent, constitutional delinquent and suffering from self-hate.\\n\\n👇🏽…', 'Timestamp': datetime.datetime(2022, 7, 24, 4, 19, 38)}, {'Tweets': 'RT @Alima1000: #NationalShutdown\\n\\nDr Stan Moloabi (PO of GEMS) is incompetent, constitutional delinquent and suffering from self-hate.\\n\\n👇🏽…', 'Timestamp': datetime.datetime(2022, 7, 24, 4, 19, 27)}, {'Tweets': 'RT @Alima1000: #NationalShutdown\\n\\nDr Stan Moloabi (PO of GEMS) is incompetent, constitutional delinquent and suffering from self-hate.\\n\\n👇🏽…', 'Timestamp': datetime.datetime(2022, 7, 24, 4, 19, 17)}, {'Tweets': 'RT @Alima1000: #NationalShutdown\\n\\nDr Stan Moloabi (PO of GEMS) is incompetent, constitutional delinquent and suffering from self-hate.\\n\\n👇🏽…', 'Timestamp': datetime.datetime(2022, 7, 24, 4, 19, 6)}, {'Tweets': 'RT @Alima1000: #NationalShutdown\\n\\nDr Stan Moloabi (PO of GEMS) is incompetent, constitutional delinquent and suffering from self-hate.\\n\\n👇🏽…', 'Timestamp': datetime.datetime(2022, 7, 24, 4, 19, 3)}, {'Tweets': 'RT @Alima1000: #NationalShutdown\\n\\nDr Stan Moloabi (PO of GEMS) is incompetent, constitutional delinquent and suffering from self-hate.\\n\\n👇🏽…', 'Timestamp': datetime.datetime(2022, 7, 24, 4, 19, 1)}, {'Tweets': 'RT @Alima1000: #NationalShutdown\\n\\nDr Stan Moloabi (PO of GEMS) is incompetent, constitutional delinquent and suffering from self-hate.\\n\\n👇🏽…', 'Timestamp': datetime.datetime(2022, 7, 24, 4, 18, 52)}, {'Tweets': 'RT @Alima1000: #NationalShutdown\\n\\nDr Stan Moloabi (PO of GEMS) is incompetent, constitutional delinquent and suffering from self-hate.\\n\\n👇🏽…', 'Timestamp': datetime.datetime(2022, 7, 24, 4, 18, 44)}, {'Tweets': 'RT @Alima1000: #NationalShutdown\\n\\nDr Stan Moloabi (PO of GEMS) is incompetent, constitutional delinquent and suffering from self-hate.\\n\\n👇🏽…', 'Timestamp': datetime.datetime(2022, 7, 24, 4, 18, 42)}, {'Tweets': 'RT @Alima1000: #NationalShutdown\\n\\nDr Stan Moloabi (PO of GEMS) is incompetent, constitutional delinquent and suffering from self-hate.\\n\\n👇🏽…', 'Timestamp': datetime.datetime(2022, 7, 24, 4, 18, 32)}, {'Tweets': 'RT @Alima1000: #NationalShutdown\\n\\nDr Stan Moloabi (PO of GEMS) is incompetent, constitutional delinquent and suffering from self-hate.\\n\\n👇🏽…', 'Timestamp': datetime.datetime(2022, 7, 24, 4, 18, 22)}, {'Tweets': 'RT @Alima1000: #NationalShutdown\\n\\nDr Stan Moloabi (PO of GEMS) is incompetent, constitutional delinquent and suffering from self-hate.\\n\\n👇🏽…', 'Timestamp': datetime.datetime(2022, 7, 24, 4, 18, 10)}, {'Tweets': 'RT @Alima1000: #NationalShutdown\\n\\nDr Stan Moloabi (PO of GEMS) is incompetent, constitutional delinquent and suffering from self-hate.\\n\\n👇🏽…', 'Timestamp': datetime.datetime(2022, 7, 24, 4, 18, 7)}, {'Tweets': 'RT @Alima1000: #NationalShutdown\\n\\nDr Stan Moloabi (PO of GEMS) is incompetent, constitutional delinquent and suffering from self-hate.\\n\\n👇🏽…', 'Timestamp': datetime.datetime(2022, 7, 24, 4, 17, 58)}, {'Tweets': 'RT @Alima1000: #NationalShutdown\\n\\nDr Stan Moloabi (PO of GEMS) is incompetent, constitutional delinquent and suffering from self-hate.\\n\\n👇🏽…', 'Timestamp': datetime.datetime(2022, 7, 24, 4, 17, 45)}, {'Tweets': 'RT @Alima1000: #NationalShutdown\\n\\nDr Stan Moloabi (PO of GEMS) is incompetent, constitutional delinquent and suffering from self-hate.\\n\\n👇🏽…', 'Timestamp': datetime.datetime(2022, 7, 24, 4, 17, 38)}, {'Tweets': '@mattmedved Sorry Twitter algorithm, my friend didn’t mean that. We come with offerings. GM, music NFT, #ElClasico… https://t.co/7WdtpvOk1s', 'Timestamp': datetime.datetime(2022, 7, 24, 4, 17, 37)}, {'Tweets': 'RT @Alima1000: #NationalShutdown\\n\\nDr Stan Moloabi (PO of GEMS) is incompetent, constitutional delinquent and suffering from self-hate.\\n\\n👇🏽…', 'Timestamp': datetime.datetime(2022, 7, 24, 4, 17, 34)}, {'Tweets': 'Dinozor olarak gelseydimde su dünyaya bugünleri görmeseydim\\n#araplar #uzungol #SONDAKİKA #ElonMusk', 'Timestamp': datetime.datetime(2022, 7, 24, 4, 16, 39)}, {'Tweets': 'RT @Georgia90406563: #ElonMusk', 'Timestamp': datetime.datetime(2022, 7, 24, 4, 15)}, {'Tweets': '25 More followers until we hit 500 on Facebook! Lets go! \\n\\n #fortnite #500followerpush #dubs #fitnerd… https://t.co/zvOpg5ent2', 'Timestamp': datetime.datetime(2022, 7, 24, 4, 14, 37)}, {'Tweets': 'RT @MrShinyBird: To celebrate my evolution, I offer you this #Giveaway 🐦✨ As usual winners will be picked with twitter picker, 100% legit!…', 'Timestamp': datetime.datetime(2022, 7, 24, 4, 14, 29)}, {'Tweets': 'RT @INOMUSIKI2: Just Meow!\\n@elonmusk\\n@Stepnofficial\\n@MimicShhans\\n@shhan1211\\n\\n#justMeow #Meow #mimicshhans #cryptoart #pfp #Bayc #mfers #azu…', 'Timestamp': datetime.datetime(2022, 7, 24, 4, 14, 15)}, {'Tweets': 'Today a Reader Tomorrow a Leader...\\nfor further Books follow my page...\\nhttps://t.co/BuQQt7dYIW\\nOrder Now, through… https://t.co/M3730Uy9XU', 'Timestamp': datetime.datetime(2022, 7, 24, 4, 13, 24)}, {'Tweets': 'RT @KerbyLafortune: Li lè li tan, pou #ElonMusk retire ti zwazo🐦sa nan figi moun poul met 🐜an kom logo Twitter ui😏😏😏 https://t.co/u8txcqC19k', 'Timestamp': datetime.datetime(2022, 7, 24, 4, 12, 24)}, {'Tweets': 'RT @WallStreet_953: Piは、スタンフォード大学の博士号を有するチームによって開発された新しいデジタル通貨で、世界中に 33 百万人以上の会員がいます。\\n1πお送りします👇まだの方は是非\\nhttps://t.co/a3BV16S3Mv\\xa0\\n招待コード【9kana…', 'Timestamp': datetime.datetime(2022, 7, 24, 4, 10, 31)}, {'Tweets': '\"Today a Reader Tomorrow a Leader\"...\\nFor further Books, follow my page...\\nhttps://t.co/KLVxMzu14W\\nOrder Now, throu… https://t.co/9ODncVj3Kt', 'Timestamp': datetime.datetime(2022, 7, 24, 4, 10, 26)}, {'Tweets': 'Piは、スタンフォード大学の博士号を有するチームによって開発された新しいデジタル通貨で、世界中に 33 百万人以上の会員がいます。\\n1πお送りします👇まだの方は是非\\nhttps://t.co/a3BV16S3Mv\\xa0\\n招待コード【9… https://t.co/jAJtF9fPy6', 'Timestamp': datetime.datetime(2022, 7, 24, 4, 10, 25)}, {'Tweets': '@MySelfSumanSen @elonmusk Oh how wonderful, now I can buy that loaf of bread I’ve always wanted - thank you #ElonMusk! 😁', 'Timestamp': datetime.datetime(2022, 7, 24, 4, 10)}, {'Tweets': \"Don't be afraid of new arenas.\\n\\n#ElonMusk\", 'Timestamp': datetime.datetime(2022, 7, 24, 4, 9, 54)}, {'Tweets': 'Sponsorship Sign Up Form First appearing on MUSIXFLIX Breaking Release Watch Now on #MusixFlix #MusicVideo… https://t.co/s1w8s0PIeV', 'Timestamp': datetime.datetime(2022, 7, 24, 4, 9, 19)}, {'Tweets': '@elonmusk #ElonMusk  u should charge royalty for every tweet u did...\\n\\nCaz twitter now days boring nd full of hater… https://t.co/xNNyCh6cyh', 'Timestamp': datetime.datetime(2022, 7, 24, 4, 8, 22)}, {'Tweets': 'RT @metabilliards: Meta Billiards challange! \\n\\nClick here and participate for a chance to win great prizes! 👇👇👇👇👇\\n\\nhttps://t.co/nOHBSJQ8yN…', 'Timestamp': datetime.datetime(2022, 7, 24, 4, 7, 47)}, {'Tweets': '@rovercrc 🚨 Good Estimation 🚨✨ @rovercrc\\n\\nWat is jou gedachtes? @elonmusk \\nDaardoor is verskriklik naby die toekoms… https://t.co/MJ9Vm8VgwW', 'Timestamp': datetime.datetime(2022, 7, 24, 4, 7, 5)}, {'Tweets': 'RT @TiwariAshram: Sunday is #dogecoin day , good morning #doge $doge #ElonMusk #DoOnlyGoodEveryday https://t.co/UqyaHchxPb', 'Timestamp': datetime.datetime(2022, 7, 24, 4, 6, 52)}, {'Tweets': 'RT @metabilliards: Meta Billiards challange! \\n\\nClick here and participate for a chance to win great prizes! 👇👇👇👇👇\\n\\nhttps://t.co/nOHBSJQ8yN…', 'Timestamp': datetime.datetime(2022, 7, 24, 4, 6, 25)}, {'Tweets': 'RT @TiwariAshram: Sunday is #dogecoin day , good morning #doge $doge #ElonMusk #DoOnlyGoodEveryday https://t.co/UqyaHchxPb', 'Timestamp': datetime.datetime(2022, 7, 24, 4, 6)}, {'Tweets': 'RT @Alima1000: \"Reserve Bank\" \"The Blacklist\"\\n\\nIncompetence @RSASIU\\nCorruption @CMScares4u\\nRacism @GEMS_Number1\\n\\n👇🏽🧑🏿\\u200d⚕️\\U0001fa7a\\nhttps://t.co/CWN8…', 'Timestamp': datetime.datetime(2022, 7, 24, 4, 5, 55)}, {'Tweets': 'RT @metabilliards: Meta Billiards challange! \\n\\nClick here and participate for a chance to win great prizes! 👇👇👇👇👇\\n\\nhttps://t.co/nOHBSJQ8yN…', 'Timestamp': datetime.datetime(2022, 7, 24, 4, 5, 54)}, {'Tweets': 'A short story \\n$shib #SHIB #SHIBARMY #shibafloki #ElonMusk #Elon #bitcoin #cryptocurrency \\n$DAI $dydx\\n➡… https://t.co/Jp4I0oqTdP', 'Timestamp': datetime.datetime(2022, 7, 24, 4, 5, 53)}, {'Tweets': 'RT @Alima1000: \"Reserve Bank\" \"The Blacklist\"\\n\\nIncompetence @RSASIU\\nCorruption @CMScares4u\\nRacism @GEMS_Number1\\n\\n👇🏽🧑🏿\\u200d⚕️\\U0001fa7a\\nhttps://t.co/CWN8…', 'Timestamp': datetime.datetime(2022, 7, 24, 4, 5, 53)}, {'Tweets': 'RT @Alima1000: \"Reserve Bank\" \"The Blacklist\"\\n\\nIncompetence @RSASIU\\nCorruption @CMScares4u\\nRacism @GEMS_Number1\\n\\n👇🏽🧑🏿\\u200d⚕️\\U0001fa7a\\nhttps://t.co/CWN8…', 'Timestamp': datetime.datetime(2022, 7, 24, 4, 5, 48)}, {'Tweets': 'RT @Alima1000: \"Reserve Bank\" \"The Blacklist\"\\n\\nIncompetence @RSASIU\\nCorruption @CMScares4u\\nRacism @GEMS_Number1\\n\\n👇🏽🧑🏿\\u200d⚕️\\U0001fa7a\\nhttps://t.co/CWN8…', 'Timestamp': datetime.datetime(2022, 7, 24, 4, 5, 38)}, {'Tweets': 'RT @Alima1000: \"Reserve Bank\" \"The Blacklist\"\\n\\nIncompetence @RSASIU\\nCorruption @CMScares4u\\nRacism @GEMS_Number1\\n\\n👇🏽🧑🏿\\u200d⚕️\\U0001fa7a\\nhttps://t.co/CWN8…', 'Timestamp': datetime.datetime(2022, 7, 24, 4, 5, 36)}, {'Tweets': 'RT @Alima1000: \"Reserve Bank\" \"The Blacklist\"\\n\\nIncompetence @RSASIU\\nCorruption @CMScares4u\\nRacism @GEMS_Number1\\n\\n👇🏽🧑🏿\\u200d⚕️\\U0001fa7a\\nhttps://t.co/CWN8…', 'Timestamp': datetime.datetime(2022, 7, 24, 4, 5, 33)}, {'Tweets': 'RT @Alima1000: \"Reserve Bank\" \"The Blacklist\"\\n\\nIncompetence @RSASIU\\nCorruption @CMScares4u\\nRacism @GEMS_Number1\\n\\n👇🏽🧑🏿\\u200d⚕️\\U0001fa7a\\nhttps://t.co/CWN8…', 'Timestamp': datetime.datetime(2022, 7, 24, 4, 5, 31)}, {'Tweets': 'Bruh 💀 \\n\\n#Bitcoin #ETH #US #Market #NFT #Elonmusk #Bearmarket #Bullmarket #nasdaq #biden #NFTcommunity #NFT #Degan… https://t.co/a5QptsBcKe', 'Timestamp': datetime.datetime(2022, 7, 24, 4, 5, 29)}, {'Tweets': 'RT @Alima1000: \"Reserve Bank\" \"The Blacklist\"\\n\\nIncompetence @RSASIU\\nCorruption @CMScares4u\\nRacism @GEMS_Number1\\n\\n👇🏽🧑🏿\\u200d⚕️\\U0001fa7a\\nhttps://t.co/CWN8…', 'Timestamp': datetime.datetime(2022, 7, 24, 4, 5, 28)}, {'Tweets': 'RT @MrShinyBird: To celebrate my evolution, I offer you this #Giveaway 🐦✨ As usual winners will be picked with twitter picker, 100% legit!…', 'Timestamp': datetime.datetime(2022, 7, 24, 4, 5, 26)}, {'Tweets': 'RT @Alima1000: \"Reserve Bank\" \"The Blacklist\"\\n\\nIncompetence @RSASIU\\nCorruption @CMScares4u\\nRacism @GEMS_Number1\\n\\n👇🏽🧑🏿\\u200d⚕️\\U0001fa7a\\nhttps://t.co/CWN8…', 'Timestamp': datetime.datetime(2022, 7, 24, 4, 5, 25)}, {'Tweets': 'RT @Alima1000: \"Reserve Bank\" \"The Blacklist\"\\n\\nIncompetence @RSASIU\\nCorruption @CMScares4u\\nRacism @GEMS_Number1\\n\\n👇🏽🧑🏿\\u200d⚕️\\U0001fa7a\\nhttps://t.co/CWN8…', 'Timestamp': datetime.datetime(2022, 7, 24, 4, 5, 22)}, {'Tweets': 'RT @Alima1000: \"Reserve Bank\" \"The Blacklist\"\\n\\nIncompetence @RSASIU\\nCorruption @CMScares4u\\nRacism @GEMS_Number1\\n\\n👇🏽🧑🏿\\u200d⚕️\\U0001fa7a\\nhttps://t.co/CWN8…', 'Timestamp': datetime.datetime(2022, 7, 24, 4, 5, 20)}, {'Tweets': 'RT @Alima1000: \"Reserve Bank\" \"The Blacklist\"\\n\\nIncompetence @RSASIU\\nCorruption @CMScares4u\\nRacism @GEMS_Number1\\n\\n👇🏽🧑🏿\\u200d⚕️\\U0001fa7a\\nhttps://t.co/CWN8…', 'Timestamp': datetime.datetime(2022, 7, 24, 4, 5, 12)}, {'Tweets': 'RT @Alima1000: \"Reserve Bank\" \"The Blacklist\"\\n\\nIncompetence @RSASIU\\nCorruption @CMScares4u\\nRacism @GEMS_Number1\\n\\n👇🏽🧑🏿\\u200d⚕️\\U0001fa7a\\nhttps://t.co/CWN8…', 'Timestamp': datetime.datetime(2022, 7, 24, 4, 5, 10)}, {'Tweets': 'RT @TiwariAshram: Sunday is #dogecoin day , good morning #doge $doge #ElonMusk #DoOnlyGoodEveryday https://t.co/UqyaHchxPb', 'Timestamp': datetime.datetime(2022, 7, 24, 4, 5, 2)}, {'Tweets': 'RT @Alima1000: \"Reserve Bank\" \"The Blacklist\"\\n\\nIncompetence @RSASIU\\nCorruption @CMScares4u\\nRacism @GEMS_Number1\\n\\n👇🏽🧑🏿\\u200d⚕️\\U0001fa7a\\nhttps://t.co/CWN8…', 'Timestamp': datetime.datetime(2022, 7, 24, 4, 5, 1)}, {'Tweets': 'RT @TiwariAshram: Sunday is #dogecoin day , good morning #doge $doge #ElonMusk #DoOnlyGoodEveryday https://t.co/UqyaHchxPb', 'Timestamp': datetime.datetime(2022, 7, 24, 4, 4, 50)}, {'Tweets': 'RT @Alima1000: \"Reserve Bank\" \"The Blacklist\"\\n\\nIncompetence @RSASIU\\nCorruption @CMScares4u\\nRacism @GEMS_Number1\\n\\n👇🏽🧑🏿\\u200d⚕️\\U0001fa7a\\nhttps://t.co/CWN8…', 'Timestamp': datetime.datetime(2022, 7, 24, 4, 4, 45)}, {'Tweets': 'RT @Alima1000: \"Reserve Bank\" \"The Blacklist\"\\n\\nIncompetence @RSASIU\\nCorruption @CMScares4u\\nRacism @GEMS_Number1\\n\\n👇🏽🧑🏿\\u200d⚕️\\U0001fa7a\\nhttps://t.co/CWN8…', 'Timestamp': datetime.datetime(2022, 7, 24, 4, 4, 43)}, {'Tweets': 'RT @Alima1000: \"Reserve Bank\" \"The Blacklist\"\\n\\nIncompetence @RSASIU\\nCorruption @CMScares4u\\nRacism @GEMS_Number1\\n\\n👇🏽🧑🏿\\u200d⚕️\\U0001fa7a\\nhttps://t.co/CWN8…', 'Timestamp': datetime.datetime(2022, 7, 24, 4, 4, 40)}, {'Tweets': 'RT @metabilliards: Meta Billiards challange! \\n\\nClick here and participate for a chance to win great prizes! 👇👇👇👇👇\\n\\nhttps://t.co/nOHBSJQ8yN…', 'Timestamp': datetime.datetime(2022, 7, 24, 4, 4, 27)}, {'Tweets': 'FULL INTERVIEW: Elon Musk Sits Down With The Babylon Bee … \\n\\n---&gt; https://t.co/XPTjwhBm6N\\n\\n … #TheBabylonBee …… https://t.co/iOcY12KO9w', 'Timestamp': datetime.datetime(2022, 7, 24, 4, 3, 42)}, {'Tweets': '11 │ \\n\\n\"Emma Sofija from Denmark in a Tesla campaign, digital art\" made with DALL-E 2\\n\\n#dalle #dalle2 #openai #ai… https://t.co/dT3Iz8pesI', 'Timestamp': datetime.datetime(2022, 7, 24, 4, 3, 37)}, {'Tweets': 'RT @Alima1000: \"Reserve Bank\" \"The Blacklist\"\\n\\nIncompetence @RSASIU\\nCorruption @CMScares4u\\nRacism @GEMS_Number1\\n\\n👇🏽🧑🏿\\u200d⚕️\\U0001fa7a\\nhttps://t.co/CWN8…', 'Timestamp': datetime.datetime(2022, 7, 24, 4, 2, 31)}, {'Tweets': 'Sunday is #dogecoin day , good morning #doge $doge #ElonMusk #DoOnlyGoodEveryday https://t.co/UqyaHchxPb', 'Timestamp': datetime.datetime(2022, 7, 24, 4, 2, 30)}, {'Tweets': 'RT @Alima1000: \"Reserve Bank\" \"The Blacklist\"\\n\\nIncompetence @RSASIU\\nCorruption @CMScares4u\\nRacism @GEMS_Number1\\n\\n👇🏽🧑🏿\\u200d⚕️\\U0001fa7a\\nhttps://t.co/CWN8…', 'Timestamp': datetime.datetime(2022, 7, 24, 4, 2, 28)}, {'Tweets': 'RT @Alima1000: \"Reserve Bank\" \"The Blacklist\"\\n\\nIncompetence @RSASIU\\nCorruption @CMScares4u\\nRacism @GEMS_Number1\\n\\n👇🏽🧑🏿\\u200d⚕️\\U0001fa7a\\nhttps://t.co/CWN8…', 'Timestamp': datetime.datetime(2022, 7, 24, 4, 2, 19)}, {'Tweets': 'RT @Alima1000: \"Reserve Bank\" \"The Blacklist\"\\n\\nIncompetence @RSASIU\\nCorruption #CMScares4u\\nRacism @GEMS_Number1\\n\\n👇🏽🧑🏿\\u200d⚕️\\U0001fa7a\\nhttps://t.co/CWN8…', 'Timestamp': datetime.datetime(2022, 7, 24, 4, 2, 11)}, {'Tweets': 'RT @Alima1000: \"Reserve Bank\" \"The Blacklist\"\\n\\nIncompetence @RSASIU\\nCorruption #CMScares4u\\nRacism @GEMS_Number1\\n\\n👇🏽🧑🏿\\u200d⚕️\\U0001fa7a\\nhttps://t.co/NBOE…', 'Timestamp': datetime.datetime(2022, 7, 24, 4, 2, 4)}, {'Tweets': 'Stone Doge via /r/dogecoin by TheDogeAcademy\\n#ElonMusk #dogecoin #dogearmy #Doge4Tesla #AcceptDoge #Doge… https://t.co/tEbSfffuWQ', 'Timestamp': datetime.datetime(2022, 7, 24, 4, 1, 33)}, {'Tweets': 'Somthing BIG is coming....\\nStay tuned!👀\\nLike🎯\\nRetweet🌪\\nAnd get ready🚨\\n#ElonMusk\\n#NFTs #shitbeast #pieceofshit_wtf… https://t.co/EEDiczhLyx', 'Timestamp': datetime.datetime(2022, 7, 24, 4, 0, 57)}, {'Tweets': 'RT @metabilliards: Meta Billiards challange! \\n\\nClick here and participate for a chance to win great prizes! 👇👇👇👇👇\\n\\nhttps://t.co/nOHBSJQ8yN…', 'Timestamp': datetime.datetime(2022, 7, 24, 4, 0, 46)}, {'Tweets': 'RT @resentment911: LUNC on the way to 1$\\n#LUNC \\n#Lunc_on_the_moon \\n#LUNACLASSIC \\n#SpaceX \\n#ElonMusk \\n#luncburn https://t.co/NXHTrx50cD', 'Timestamp': datetime.datetime(2022, 7, 24, 4, 0, 21)}, {'Tweets': \"RT @WhaleVentures1: Elon, you don't understand Bitcoin.\\n\\n#Bitcoin #ElonMusk #elon #tesla  #BTC https://t.co/ALZ19RrRew\", 'Timestamp': datetime.datetime(2022, 7, 24, 3, 59, 35)}, {'Tweets': 'RT @givemigiveaways: Oof #cryptocrash 😫. Look down at this data🧐\\nTop Trending Coins of 2022 are here \\n\\n#cryptocurrency #cryptocrash #Crypto…', 'Timestamp': datetime.datetime(2022, 7, 24, 3, 59, 28)}, {'Tweets': '10 │ \\n\\n\"Emma Sofija from Denmark in a Tesla model S campaign, digital art\" made with DALL-E 2\\n\\n#dalle #dalle2… https://t.co/1mcKlIOBOF', 'Timestamp': datetime.datetime(2022, 7, 24, 3, 58, 52)}, {'Tweets': 'RT @minnie_queen505: @WhaleEverything We killing zero tonight hurry up https://t.co/UIa64DNq7J\\nAsk for the best and most complete blockchai…', 'Timestamp': datetime.datetime(2022, 7, 24, 3, 58, 5)}, {'Tweets': 'Elon, always several steps ahead. #ElonMusk #elonmusktwitter #FYP #childlabor https://t.co/gbT4t8pyTE', 'Timestamp': datetime.datetime(2022, 7, 24, 3, 57, 37)}, {'Tweets': 'RT @metabilliards: Meta Billiards challange! \\n\\nClick here and participate for a chance to win great prizes! 👇👇👇👇👇\\n\\nhttps://t.co/nOHBSJQ8yN…', 'Timestamp': datetime.datetime(2022, 7, 24, 3, 55, 52)}, {'Tweets': 'African man beats out #tesla with self sufficient car that does not require charging #elonmusk https://t.co/LYt1z48PL5', 'Timestamp': datetime.datetime(2022, 7, 24, 3, 55, 24)}, {'Tweets': 'It’ll be a serious missed opportunity if #ElonMusk doesn’t come out with a #tesla minivan and call it The Repopulator', 'Timestamp': datetime.datetime(2022, 7, 24, 3, 55)}, {'Tweets': 'RT @stratorob: After #Tesla sold most of its #bitcoin, #ElonMusk says he is open to buying more, though ‘#cryptocurrency is a side show’\\n\\nh…', 'Timestamp': datetime.datetime(2022, 7, 24, 3, 54, 45)}, {'Tweets': 'RT @elvisocc: #ElonMusk dueño de #Tesla y SpaceX, dijo que pondría 25 millones de dólares en la campaña del candidato presidencial que esco…', 'Timestamp': datetime.datetime(2022, 7, 24, 3, 54, 37)}, {'Tweets': 'RT @metabilliards: Meta Billiards challange! \\n\\nClick here and participate for a chance to win great prizes! 👇👇👇👇👇\\n\\nhttps://t.co/nOHBSJQ8yN…', 'Timestamp': datetime.datetime(2022, 7, 24, 3, 54, 35)}, {'Tweets': '@Abhishekkar_ Surpassing #ElonMusk in networth may not be a big deal.\\nIf he announces any taking over of $100b comp… https://t.co/cJMuIAKssj', 'Timestamp': datetime.datetime(2022, 7, 24, 3, 54, 25)}, {'Tweets': '#ElonMusk dueño de #Tesla y SpaceX, dijo que pondría 25 millones de dólares en la campaña del candidato presidencia… https://t.co/mSaRITL3ya', 'Timestamp': datetime.datetime(2022, 7, 24, 3, 53, 15)}, {'Tweets': 'RT @metabilliards: Meta Billiards challange! \\n\\nClick here and participate for a chance to win great prizes! 👇👇👇👇👇\\n\\nhttps://t.co/nOHBSJQ8yN…', 'Timestamp': datetime.datetime(2022, 7, 24, 3, 51, 37)}, {'Tweets': 'RT @thepaigeperkins: Biden says he’s still working 8 plus hours! I guess were saved! #gop #ElonMusk #Republican  #democrat @gop @DonaldJTru…', 'Timestamp': datetime.datetime(2022, 7, 24, 3, 50, 57)}, {'Tweets': 'RT @minnie_queen505: @WhaleEverything We killing zero tonight hurry up https://t.co/UIa64DNq7J\\nAsk for the best and most complete blockchai…', 'Timestamp': datetime.datetime(2022, 7, 24, 3, 50, 20)}, {'Tweets': \"RT @GeoffGr74476462: @HafizArchie @AtheniaLuv @cryptojack @ArchieNeko_ I'm all in on #ArchieNeko, a great project with a great vision for t…\", 'Timestamp': datetime.datetime(2022, 7, 24, 3, 50, 12)}, {'Tweets': 'RT @missemmamm: https://t.co/v31tTiD3Kz\\nWant to learn about #AI #GOOGLE #Microsoft &amp; #ElonMusk and get a laugh?\\n\\nListen to our new podcast!', 'Timestamp': datetime.datetime(2022, 7, 24, 3, 48, 24)}, {'Tweets': 'RT @vedicfolkscom: Brahmasirakandeeswarar Temple is an incredible temple in Thanjavur, Tamil Nadu, India. Here mighty Lord Shiva is admired…', 'Timestamp': datetime.datetime(2022, 7, 24, 3, 48, 11)}, {'Tweets': 'RT @MrShinyBird: To celebrate my evolution, I offer you this #Giveaway 🐦✨ As usual winners will be picked with twitter picker, 100% legit!…', 'Timestamp': datetime.datetime(2022, 7, 24, 3, 47, 51)}, {'Tweets': 'Indian Army organizes Quami Ekta Sabha at Khankot, Doda.....\\n#IndianArmyPeoplesArmy  #youthengagement… https://t.co/uwOt1San4b', 'Timestamp': datetime.datetime(2022, 7, 24, 3, 46, 24)}, {'Tweets': \"@HafizArchie @AtheniaLuv @cryptojack @ArchieNeko_ I'm all in on #ArchieNeko, a great project with a great vision fo… https://t.co/pnWWGfYR2q\", 'Timestamp': datetime.datetime(2022, 7, 24, 3, 45, 26)}, {'Tweets': 'Joined Twitter with the  big legendary\\n\\n#narendramodiji #ElonMusk  #RatanTata', 'Timestamp': datetime.datetime(2022, 7, 24, 3, 45, 12)}, {'Tweets': 'Arsenal 4 Chelsea 0:\\n\\nGabriel Jesus ⚽, Martin Odegaard ⚽, Bukayo Saka ⚽ and Sambi Lokonga ⚽ see Gunners cruise past… https://t.co/q6ZiVv9Z8C', 'Timestamp': datetime.datetime(2022, 7, 24, 3, 43, 46)}, {'Tweets': \"RT @GeoffGr74476462: @DorkKnight777 @AtheniaLuv @kokid951 I'm all in on #ArchieNeko, a great project with a great vision for the future. Do…\", 'Timestamp': datetime.datetime(2022, 7, 24, 3, 42, 41)}, {'Tweets': \"SpaceX'in yüksek hızda internet için uzaya gönderdiği Starlink uyduları Türkiye üzerinden geçerken görüntülendi.… https://t.co/ZcgI7cqM3V\", 'Timestamp': datetime.datetime(2022, 7, 24, 3, 42, 20)}, {'Tweets': \"#Confidence #ElonMusk  that's what the majority must have. Inferno by #firesale in negotiating the terms of surrend… https://t.co/x05YNaiPqr\", 'Timestamp': datetime.datetime(2022, 7, 24, 3, 41, 44)}, {'Tweets': 'A short story \\n$shib #SHIB #SHIBARMY #shibafloki #ElonMusk #Elon #bitcoin #cryptocurrency \\n$gala https://t.co/xJzuujgZED', 'Timestamp': datetime.datetime(2022, 7, 24, 3, 41, 27)}, {'Tweets': \"RT @cartoonsbyjim: This week's NEW #cartoon for @ITP_nz as #ElonMusk and #Twitter set a court date. https://t.co/pWz4t7hHFW\", 'Timestamp': datetime.datetime(2022, 7, 24, 3, 40, 40)}, {'Tweets': 'RT @gabxtoken: #gabxtoken #gabxtokenofficial #cryptocurrencynews #indiancrypto #binance #USDT #bitcoin #blockchain #elonmusk #GABX \\nBuy Gab…', 'Timestamp': datetime.datetime(2022, 7, 24, 3, 39, 36)}, {'Tweets': 'RT @gabxtoken: #gabxtoken #gabxtokenofficial #cryptocurrencynews #indiancrypto #binance #USDT #bitcoin #blockchain #elonmusk #GABX \\nBuy Gab…', 'Timestamp': datetime.datetime(2022, 7, 24, 3, 39, 32)}, {'Tweets': 'RT @_Brasil_Livre: É MATEMÁTICA PURA ...A DIFERENÇA DE UM GOVERNO LADRÃO... E UM HONESTO...NUNCA FOI TÃO FÁCIL ESCOLHER...\\n\\n#VivaBrasil #Vi…', 'Timestamp': datetime.datetime(2022, 7, 24, 3, 39, 25)}, {'Tweets': 'RT @OKMrMax: Twitter post-Musk está condenado. Las plataformas de medios sociales disruptivas lo reemplazarán: CEO de @GETTRofficial @Jason…', 'Timestamp': datetime.datetime(2022, 7, 24, 3, 38, 27)}, {'Tweets': 'RT @MrShinyBird: To celebrate my evolution, I offer you this #Giveaway 🐦✨ As usual winners will be picked with twitter picker, 100% legit!…', 'Timestamp': datetime.datetime(2022, 7, 24, 3, 34, 46)}, {'Tweets': 'https://t.co/UpfGodZzHF  #insiders #inspire #upforthematch #yrkkh #TrumpRally #RecastTChalla #RestoreTheSnyderVerse… https://t.co/aUtkUTSmnI', 'Timestamp': datetime.datetime(2022, 7, 24, 3, 33, 48)}, {'Tweets': 'https://t.co/v31tTiD3Kz\\nWant to learn about #AI #GOOGLE #Microsoft &amp; #ElonMusk and get a laugh?\\n\\nListen to our new podcast!', 'Timestamp': datetime.datetime(2022, 7, 24, 3, 33, 24)}, {'Tweets': '#eh #ElonMusk see what I see 1133 https://t.co/UHVQKhTAfK', 'Timestamp': datetime.datetime(2022, 7, 24, 3, 33, 10)}, {'Tweets': 'RT @eze_fi: 1. Retweet\\n2. Follow us on TWITTER, DISCORD, INSTAGRAM &amp; TELEGRAM\\n3. Get EZE Tokens\\n\\nFollow @kennycuevas_ \\n------------------\\nh…', 'Timestamp': datetime.datetime(2022, 7, 24, 3, 33, 4)}, {'Tweets': \"RT @WhaleVentures1: Elon, you don't understand Bitcoin.\\n\\n#Bitcoin #ElonMusk #elon #tesla  #BTC https://t.co/ALZ19RrRew\", 'Timestamp': datetime.datetime(2022, 7, 24, 3, 32, 36)}, {'Tweets': 'RT @somethin2fierce: This is #LEGENDARY #ElonMusk \\n#HunterBiden https://t.co/SVHSgpG9Sm', 'Timestamp': datetime.datetime(2022, 7, 24, 3, 32, 17)}, {'Tweets': '@elonmusk #Elonmusk the real iron man', 'Timestamp': datetime.datetime(2022, 7, 24, 3, 30, 16)}, {'Tweets': '@elonmusk Yha ##ElonMusk', 'Timestamp': datetime.datetime(2022, 7, 24, 3, 29, 56)}, {'Tweets': '@elonmusk Yes #yes #ElonMusk', 'Timestamp': datetime.datetime(2022, 7, 24, 3, 28, 46)}, {'Tweets': \"RT @WhaleVentures1: Elon, you don't understand Bitcoin.\\n\\n#Bitcoin #ElonMusk #elon #tesla  #BTC https://t.co/ALZ19RrRew\", 'Timestamp': datetime.datetime(2022, 7, 24, 3, 28, 37)}, {'Tweets': \"RT @bitcoinlfgo: #Bitcoin Don't Need #ElonMusk \\nElonmusk Needs #Bitcoin .\", 'Timestamp': datetime.datetime(2022, 7, 24, 3, 27, 42)}, {'Tweets': \"@elonmusk That's amazing 🤩😍😍🤩😍 and #lovely #love #ElonMusk\", 'Timestamp': datetime.datetime(2022, 7, 24, 3, 27, 23)}, {'Tweets': \"RT @GeoffGr74476462: @DorkKnight777 @AtheniaLuv @kokid951 I'm all in on #ArchieNeko, a great project with a great vision for the future. Do…\", 'Timestamp': datetime.datetime(2022, 7, 24, 3, 27, 2)}, {'Tweets': 'Elon Musk On People Being Wrong About The Internet | ELON MUSK INTERVIEW... https://t.co/VwUu39HdXk via @YouTube #ELONMUSK #speech #rich', 'Timestamp': datetime.datetime(2022, 7, 24, 3, 26, 40)}, {'Tweets': 'Biden says he’s still working 8 plus hours! I guess were saved! #gop #ElonMusk #Republican  #democrat @gop… https://t.co/YEiMrUTxRz', 'Timestamp': datetime.datetime(2022, 7, 24, 3, 26, 36)}, {'Tweets': 'RT @TiwariAshram: Dogecoin is currency, press the button if you hold #Doge #Dogecoin #dogecoin #DoOnlyGoodEveryday #ElonMusk https://t.co/2…', 'Timestamp': datetime.datetime(2022, 7, 24, 3, 26, 25)}, {'Tweets': 'RT @nwadi_iwuagwu: 🌚 https://t.co/PQmsj3W4Ea 👈\\n#ElonMusk #cryptocurrency #moon #cryptocurrencies\\nCOMING SOON 🔥\\nStay With HotMoon ! 🚀\\n\\n#HotM…', 'Timestamp': datetime.datetime(2022, 7, 24, 3, 26, 20)}, {'Tweets': 'RT @resentment911: LUNC on the way to 1$\\n#LUNC \\n#Lunc_on_the_moon \\n#LUNACLASSIC \\n#SpaceX \\n#ElonMusk \\n#luncburn https://t.co/NXHTrx50cD', 'Timestamp': datetime.datetime(2022, 7, 24, 3, 24, 13)}, {'Tweets': 'So it’s true. Sh*t doesn’t fall far from the a$$hole.\\n\\n#ElonMusk\\n\\nhttps://t.co/Hvv4CU5Nn2', 'Timestamp': datetime.datetime(2022, 7, 24, 3, 24, 11)}, {'Tweets': '@cb_doge @elonmusk Love him. #ElonMusk  would have loved to  be one of his teachers in elementary school!!', 'Timestamp': datetime.datetime(2022, 7, 24, 3, 21, 25)}, {'Tweets': 'RT @resentment911: LUNC on the way to 1$\\n#LUNC \\n#Lunc_on_the_moon \\n#LUNACLASSIC \\n#SpaceX \\n#ElonMusk \\n#luncburn https://t.co/NXHTrx50cD', 'Timestamp': datetime.datetime(2022, 7, 24, 3, 20, 43)}, {'Tweets': 'https://t.co/VbFYbEOb8u \\n@stevenvoiceover this is awesome #ElonMusk', 'Timestamp': datetime.datetime(2022, 7, 24, 3, 20, 29)}, {'Tweets': 'Lan millet uzaya uydu gönderiyo bazı gezegenlerde hayat kurmaya çalışıyo yıl olmuş 2022 memleketim insanıda ufo gör… https://t.co/Iofb6l0jNF', 'Timestamp': datetime.datetime(2022, 7, 24, 3, 18, 19)}, {'Tweets': 'Türk bir çocugun olsun istersen tüm doğurganlığımla burdayım #ElonMusk', 'Timestamp': datetime.datetime(2022, 7, 24, 3, 17, 49)}, {'Tweets': '#ElonMusk Laughs At Himself After Getting Roasted Over Embarrassing Pale And Shirtless #Meme Pic #SmartNews  https://t.co/S3oUi9VHFH', 'Timestamp': datetime.datetime(2022, 7, 24, 3, 15, 38)}, {'Tweets': \"RT @cartoonsbyjim: This week's NEW #cartoon for @ITP_nz as #ElonMusk and #Twitter set a court date. https://t.co/pWz4t7hHFW\", 'Timestamp': datetime.datetime(2022, 7, 24, 3, 15, 36)}, {'Tweets': 'RT @TheGoatSocietys: 🛍️Already Activate Our Store 🔥\\n\\nCaps as is from #ElonMusk you can find it now in our store \\n\\nUse this link 👇👇 and meet…', 'Timestamp': datetime.datetime(2022, 7, 24, 3, 15, 10)}, {'Tweets': '#Nazis #Hitler #WernhervonBraun #LeoDiCaprio #GomerPyle #ElonMusk #Mars #Predators #Oppression… https://t.co/DDoV2EFX8u', 'Timestamp': datetime.datetime(2022, 7, 24, 3, 13, 23)}, {'Tweets': 'Noite passada, sonhei que prestava assessoria de imprensa e relações governamentais ao #ElonMusk. Nele, Musk me diz… https://t.co/ZwyYBpwktn', 'Timestamp': datetime.datetime(2022, 7, 24, 3, 13, 22)}, {'Tweets': 'RT @Muskbearpig: When we launch our #NFTs we would like our holders &amp; community to help us collaborate and design our very own collection.…', 'Timestamp': datetime.datetime(2022, 7, 24, 3, 12, 48)}, {'Tweets': 'RT @drive_crypto: We are proud to announce that we will launch on @LBank_Exchange - one of the Top 20 exchanges worldwide!!\\n\\n$Drivecripto t…', 'Timestamp': datetime.datetime(2022, 7, 24, 3, 12, 10)}, {'Tweets': 'RT @metabilliards: Meta Billiards challange! \\n\\nClick here and participate for a chance to win great prizes! 👇👇👇👇👇\\n\\nhttps://t.co/nOHBSJQ8yN…', 'Timestamp': datetime.datetime(2022, 7, 24, 3, 10, 51)}, {'Tweets': 'RT @AstroSmokey68: WIP @TotalitasWattz @AstroSmokey68 @elonmusk #3Dprinting #Mechazilla #BocaChicaToMars #ElonMusk #SpaceX #Starbase #Moon…', 'Timestamp': datetime.datetime(2022, 7, 24, 3, 10, 43)}, {'Tweets': 'Sizce ben zengin miyim arkadaşlar 🤔\\n#SedatPeker \\n#saat4 \\nMerkez Bankası \\n#ibrahimtatlises\\n#SONDAKİKA… https://t.co/1xKoke1wog', 'Timestamp': datetime.datetime(2022, 7, 24, 3, 9, 55)}, {'Tweets': 'RT @850fights: Ohhhh Wowww #ElonMusk #girlfight #fightpage #imdead #JusticeForJohnnyDepp https://t.co/fAiZMwolPH', 'Timestamp': datetime.datetime(2022, 7, 24, 3, 9, 4)}, {'Tweets': '#elonmusk #NewCap https://t.co/h2eThEMs35', 'Timestamp': datetime.datetime(2022, 7, 24, 3, 8, 36)}, {'Tweets': \"RT @cartoonsbyjim: This week's NEW #cartoon for @ITP_nz as #ElonMusk and #Twitter set a court date. https://t.co/pWz4t7hHFW\", 'Timestamp': datetime.datetime(2022, 7, 24, 3, 8, 15)}, {'Tweets': \"This week's NEW #cartoon for @ITP_nz as #ElonMusk and #Twitter set a court date. https://t.co/pWz4t7hHFW\", 'Timestamp': datetime.datetime(2022, 7, 24, 3, 7, 46)}, {'Tweets': '@AndrewTateInu Major top g shit! @1goonrich @elonmusk  #andrewtateInu #Andrewtate #tatearmy #tatenation #BSC #ETH… https://t.co/RVRqqO5ej7', 'Timestamp': datetime.datetime(2022, 7, 24, 3, 6, 23)}, {'Tweets': 'RT @metabilliards: Meta Billiards challange! \\n\\nClick here and participate for a chance to win great prizes! 👇👇👇👇👇\\n\\nhttps://t.co/nOHBSJQ8yN…', 'Timestamp': datetime.datetime(2022, 7, 24, 3, 6, 18)}, {'Tweets': 'RT @resentment911: LUNC on the way to 1$\\n#LUNC \\n#Lunc_on_the_moon \\n#LUNACLASSIC \\n#SpaceX \\n#ElonMusk \\n#luncburn https://t.co/NXHTrx50cD', 'Timestamp': datetime.datetime(2022, 7, 24, 3, 6, 7)}, {'Tweets': '@1goonrich @elonmusk  #andrewtateInu #Andrewtate #tatearmy #tatenation #BSC #ETH #DOGE #ADA #CROGE #CULT #100XGEMS… https://t.co/oAFgvaXgCm', 'Timestamp': datetime.datetime(2022, 7, 24, 3, 4, 49)}, {'Tweets': '@AndrewTateInu @1goonrich @elonmusk  #andrewtateInu #Andrewtate #tatearmy #tatenation #BSC #ETH #DOGE #ADA #CROGE… https://t.co/Dw0AgQs3zX', 'Timestamp': datetime.datetime(2022, 7, 24, 3, 4, 40)}, {'Tweets': '#Twitter #ElonMusk #elonmusktwitter \\nEl martes 19 de julio, un juez ordenó que la demanda de Twitter contra Elon Mu… https://t.co/dejOcd7dE2', 'Timestamp': datetime.datetime(2022, 7, 24, 3, 2)}, {'Tweets': 'After #Tesla sold most of its #bitcoin, #ElonMusk says he is open to buying more, though ‘#cryptocurrency is a side… https://t.co/AeiFl6Q5nZ', 'Timestamp': datetime.datetime(2022, 7, 24, 3, 0, 21)}, {'Tweets': '#Twitter #ElonMusk #elonmusktwitter \\nEl martes 19 de julio, un juez ordenó que la demanda de Twitter contra Elon Mu… https://t.co/Qb455f63c2', 'Timestamp': datetime.datetime(2022, 7, 24, 3, 0)}, {'Tweets': 'If Elon Musk gave each one of us 1 billion dollars, he will have 227.5 billion dollars. Poverty will be solved, the… https://t.co/hER5JaJwlB', 'Timestamp': datetime.datetime(2022, 7, 24, 2, 59, 23)}, {'Tweets': 'Morning photo shot 😃 Looking great today.😘 And also looking forward how to earn more Bitcoin now 🤗\\n#fun #earn #btc… https://t.co/8zl7uTnCjR', 'Timestamp': datetime.datetime(2022, 7, 24, 2, 58, 54)}, {'Tweets': 'RT @INUS_lovely: MultiPlanetary $INUS = #memes+#Metaverse+ #GameFi+ #SocialFi\\n\\n#MEME #ETH #crypto #Bitcoin\\xa0 #BitcoinCash #bbcnews #BBCBreak…', 'Timestamp': datetime.datetime(2022, 7, 24, 2, 58, 45)}, {'Tweets': 'RT @metabilliards: Meta Billiards challange! \\n\\nClick here and participate for a chance to win great prizes! 👇👇👇👇👇\\n\\nhttps://t.co/nOHBSJQ8yN…', 'Timestamp': datetime.datetime(2022, 7, 24, 2, 57, 5)}, {'Tweets': 'Grimes Dumped Elon Musk For A Transsexual --- So, Is The Elon Musk Twitter Takeover Deal Just A PR Stunt Meant To D… https://t.co/U5IqrSa6qo', 'Timestamp': datetime.datetime(2022, 7, 24, 2, 55, 34)}, {'Tweets': 'We like you to mint this NFT free. Only 5000 DangezClonez will exist. \\n\\nFollow \\nLike &amp; RT\\nComment Eth address… https://t.co/oXKMOayBOc', 'Timestamp': datetime.datetime(2022, 7, 24, 2, 55)}, {'Tweets': '@elonmusk play a MetaBilliards Game with me! Accept the challenge! https://t.co/hYMe9rOGU2 #BLDS #MetaBilliards… https://t.co/N0hv9kQBFN', 'Timestamp': datetime.datetime(2022, 7, 24, 2, 53, 9)}, {'Tweets': 'RT @metabilliards: Meta Billiards challange! \\n\\nClick here and participate for a chance to win great prizes! 👇👇👇👇👇\\n\\nhttps://t.co/nOHBSJQ8yN…', 'Timestamp': datetime.datetime(2022, 7, 24, 2, 52, 55)}, {'Tweets': \"RT @ybnormyl: @elonmusk @Rainmaker1973 Some thing that can easily happen again with over 100 active volcanoes. How's the mars thing coming…\", 'Timestamp': datetime.datetime(2022, 7, 24, 2, 52, 41)}, {'Tweets': 'Piは、スタンフォード大学の博士号を有するチームによって開発された新しいデジタル通貨で、世界中に 33 百万人以上の会員がいます。\\n1πお送りします👇まだの方は是非\\nhttps://t.co/a3BV16S3Mv\\xa0\\n招待コード【9… https://t.co/fhu9HY7vg7', 'Timestamp': datetime.datetime(2022, 7, 24, 2, 51, 16)}, {'Tweets': 'RT @AddyCryptson: @MrBigWhaleREAL LASREVER — Reverse the humanity!  $LSVR \\n\\nChart Looking Super #Bullish \\n\\nhttps://t.co/pDRPCDuoH2\\n\\nhttps:/…', 'Timestamp': datetime.datetime(2022, 7, 24, 2, 50, 53)}, {'Tweets': 'RT @resentment911: LUNC on the way to 1$\\n#LUNC \\n#Lunc_on_the_moon \\n#LUNACLASSIC \\n#SpaceX \\n#ElonMusk \\n#luncburn https://t.co/NXHTrx50cD', 'Timestamp': datetime.datetime(2022, 7, 24, 2, 50, 10)}, {'Tweets': '@BabyDogeCoin 🔥🔥🚀🚀\\n#ElonMusk\\n#BabyDoge \\n#BabyDogeCoin \\n#BabyDogeArmy \\n#OKExChain \\n#Ethereum\\n#Blockchain\\n#NFTs\\n#DeFi… https://t.co/cX3WAxjs73', 'Timestamp': datetime.datetime(2022, 7, 24, 2, 49, 49)}, {'Tweets': 'RT @eze_fi: 1. Retweet\\n2. Follow us on TWITTER, DISCORD, INSTAGRAM &amp; TELEGRAM\\n3. Get EZE Tokens\\n\\nFollow @kennycuevas_ \\n------------------\\nh…', 'Timestamp': datetime.datetime(2022, 7, 24, 2, 49, 44)}, {'Tweets': 'It still perplexes me how Twitter put me on #timeout after some of the I’ve read here. #ElonMusk can joke about… https://t.co/9ohR9DpoEN', 'Timestamp': datetime.datetime(2022, 7, 24, 2, 49, 30)}, {'Tweets': 'Destan Yalan Oluyor! Her Şey Tarumar Oldu, Akkız Ölüyor... Ebru Şahin Oyunculuğu  Mu Bırakıyor? Şok Olacağınız Ebru… https://t.co/GnItUz8Zhs', 'Timestamp': datetime.datetime(2022, 7, 24, 2, 48, 21)}, {'Tweets': 'RT @Muskbearpig: When we launch our #NFTs we would like our holders &amp; community to help us collaborate and design our very own collection.…', 'Timestamp': datetime.datetime(2022, 7, 24, 2, 46, 37)}, {'Tweets': 'RT @JagranNews: Elon Musk को जोरदार झटका, Twitter डील मामले में कोर्ट ने सुनाया ये फैसला\\n\\n#ElonMusk #Twitter  \\n\\nhttps://t.co/6sGTOAe9Y1', 'Timestamp': datetime.datetime(2022, 7, 24, 2, 45, 21)}, {'Tweets': 'When we launch our #NFTs we would like our holders &amp; community to help us collaborate and design our very own colle… https://t.co/11b4fvGdM5', 'Timestamp': datetime.datetime(2022, 7, 24, 2, 45, 21)}, {'Tweets': 'Elon Musk को जोरदार झटका, Twitter डील मामले में कोर्ट ने सुनाया ये फैसला\\n\\n#ElonMusk #Twitter  \\n\\nhttps://t.co/6sGTOAe9Y1', 'Timestamp': datetime.datetime(2022, 7, 24, 2, 45)}, {'Tweets': 'RT @MrShinyBird: To celebrate my evolution, I offer you this #Giveaway 🐦✨ As usual winners will be picked with twitter picker, 100% legit!…', 'Timestamp': datetime.datetime(2022, 7, 24, 2, 44, 24)}, {'Tweets': 'RT @metabilliards: Meta Billiards challange! \\n\\nClick here and participate for a chance to win great prizes! 👇👇👇👇👇\\n\\nhttps://t.co/nOHBSJQ8yN…', 'Timestamp': datetime.datetime(2022, 7, 24, 2, 43, 17)}, {'Tweets': 'RT @btldid1: @elonmusk You will like this very much, Elon.. I wish you well and happiness. Listen deeply.. 🥰\\n\\nThis was said 1400 years ago…', 'Timestamp': datetime.datetime(2022, 7, 24, 2, 43, 16)}, {'Tweets': 'RT @MrShinyBird: To celebrate my evolution, I offer you this #Giveaway 🐦✨ As usual winners will be picked with twitter picker, 100% legit!…', 'Timestamp': datetime.datetime(2022, 7, 24, 2, 43, 16)}, {'Tweets': 'Twitter cries for Daddy #ElonMusk https://t.co/JbxFHQQ92L', 'Timestamp': datetime.datetime(2022, 7, 24, 2, 42, 21)}, {'Tweets': 'This how #ElonMusk built https://t.co/RsXiDETekR', 'Timestamp': datetime.datetime(2022, 7, 24, 2, 41, 9)}, {'Tweets': 'RT @metabilliards: Meta Billiards challange! \\n\\nClick here and participate for a chance to win great prizes! 👇👇👇👇👇\\n\\nhttps://t.co/nOHBSJQ8yN…', 'Timestamp': datetime.datetime(2022, 7, 24, 2, 38, 28)}, {'Tweets': \"RT @WhaleVentures1: Elon, you don't understand Bitcoin.\\n\\n#Bitcoin #ElonMusk #elon #tesla  #BTC https://t.co/ALZ19RrRew\", 'Timestamp': datetime.datetime(2022, 7, 24, 2, 37, 54)}, {'Tweets': '#Tesla #ElonMusk https://t.co/lmAq7bJcx2', 'Timestamp': datetime.datetime(2022, 7, 24, 2, 37, 49)}, {'Tweets': 'RT @MrShinyBird: To celebrate my evolution, I offer you this #Giveaway 🐦✨ As usual winners will be picked with twitter picker, 100% legit!…', 'Timestamp': datetime.datetime(2022, 7, 24, 2, 37, 38)}, {'Tweets': '#ElonMusk https://t.co/K5IfW2eHaO', 'Timestamp': datetime.datetime(2022, 7, 24, 2, 37, 29)}, {'Tweets': '\"Youll own nothing and youll be happy\"  FOOL !!\\n\\n#MAGA #2000MulesMovie \\n#BreakingNews #USA #Ireland #Australia… https://t.co/JCYXuILkli', 'Timestamp': datetime.datetime(2022, 7, 24, 2, 36, 20)}, {'Tweets': 'RT @BullBeatsBear_: @cryptojack Just hold @ElonGoatToken\\n\\n#EGT is so close to touring the monument for the G.O.A.T #ElonMusk around the US…', 'Timestamp': datetime.datetime(2022, 7, 24, 2, 35, 49)}, {'Tweets': 'Today I bought an apple and my kidney is also fine, you can imagine how rich I am😇🤑\\n\\n#Apple \\n\\n#ElonMusk https://t.co/93KQKkLe9W', 'Timestamp': datetime.datetime(2022, 7, 24, 2, 35, 30)}, {'Tweets': 'Liberals hate the US .. \"crisis of the month\" \"to destroy the US economy \"..\\n#MAGA #2000MulesMovie \\n#BreakingNews… https://t.co/7jVttC55rv', 'Timestamp': datetime.datetime(2022, 7, 24, 2, 33, 32)}, {'Tweets': 'RT @Sharmil89663923: #FlatEarth  #ElonMusk #NASAlies #NASA #Space #spacex #illuminati \\n#NWO #BillGatesBioTerrorist #BillGates #GeorgeSoros…', 'Timestamp': datetime.datetime(2022, 7, 24, 2, 33)}, {'Tweets': 'RT @Sharmil89663923: #FlatEarth  #ElonMusk #NASAlies #NASA #Space #spacex #illuminati \\n#NWO #BillGatesBioTerrorist #BillGates #GeorgeSoros…', 'Timestamp': datetime.datetime(2022, 7, 24, 2, 32, 18)}, {'Tweets': 'RT @GettrEspanol: Twitter post-Musk está condenado. Las plataformas de medios sociales disruptivas lo reemplazarán: CEO de @GETTRofficial @…', 'Timestamp': datetime.datetime(2022, 7, 24, 2, 31, 10)}, {'Tweets': '#ElonMusk \\n🤔 feel it ? https://t.co/MkePRuWfO6', 'Timestamp': datetime.datetime(2022, 7, 24, 2, 30, 15)}, {'Tweets': \"RT @BitValleyInc: @elonmusk we haven't gotten an answer yet, we know you're very busy or you haven't heard our cool idea yet so🤞 that our m…\", 'Timestamp': datetime.datetime(2022, 7, 24, 2, 30, 6)}, {'Tweets': 'RT @Brainmonethdad3: Any baby who need some goodies 🍬 &amp; ready to get spoilt!? Like , Rt and Dm asap to get spoilt by candy daddy 🍭 ASAP💰 #s…', 'Timestamp': datetime.datetime(2022, 7, 24, 2, 29, 4)}, {'Tweets': \"EYT'de Beklenen Açıklama, Milyonlar Bekliyordu! 1999 Öncesi ve Sonrası Ne Olacak? Detaylar Belli Oldukça Hayaller Y… https://t.co/RbVLeyJ8nw\", 'Timestamp': datetime.datetime(2022, 7, 24, 2, 27, 59)}, {'Tweets': 'RT @mustafacakaray: #whatsapp #instagram #tiktok #youtube #facebook #twitter #swarm #youtubechannel #youtuber #takip #keşfet #öneçıkar #n11…', 'Timestamp': datetime.datetime(2022, 7, 24, 2, 27, 38)}, {'Tweets': 'RT @MrShinyBird: To celebrate my evolution, I offer you this #Giveaway 🐦✨ As usual winners will be picked with twitter picker, 100% legit!…', 'Timestamp': datetime.datetime(2022, 7, 24, 2, 27, 16)}, {'Tweets': 'I called the fraud that is #ElonMusk on 02.28.22. See the blog post \"Musk Odor\". And before that on June 3, 2017, i… https://t.co/speQI6EgAd', 'Timestamp': datetime.datetime(2022, 7, 24, 2, 26, 44)}, {'Tweets': 'RT @berlinerzeitung: Aus dem Archiv: Die „Elektropolis“ Berlin war einst führend in der modernsten Technologie. Sie baute auch Elektrofahrz…', 'Timestamp': datetime.datetime(2022, 7, 24, 2, 23, 40)}, {'Tweets': 'Sabahı şeriflerdeyim sevgili #ElonMusk  sen nəcə sen 🙄 https://t.co/ZdQKq8IkW1', 'Timestamp': datetime.datetime(2022, 7, 24, 2, 23, 38)}, {'Tweets': \"@elonmusk we haven't gotten an answer yet, we know you're very busy or you haven't heard our cool idea yet so🤞 that… https://t.co/aUmR7NmtbT\", 'Timestamp': datetime.datetime(2022, 7, 24, 2, 22, 47)}, {'Tweets': '@elonmusk play a MetaBilliards Game with me! Accept the challenge! https://t.co/i8YAry0w03 #BLDS #MetaBilliards… https://t.co/5fDLUzFtOj', 'Timestamp': datetime.datetime(2022, 7, 24, 2, 20, 43)}, {'Tweets': 'RT @metabilliards: Meta Billiards challange! \\n\\nClick here and participate for a chance to win great prizes! 👇👇👇👇👇\\n\\nhttps://t.co/nOHBSJQ8yN…', 'Timestamp': datetime.datetime(2022, 7, 24, 2, 20, 29)}, {'Tweets': 'Hey @elonmusk your Starlink satellites just passed over Turkey. Did you paid your taxes for them ? \\n#Starlink #ElonMusk', 'Timestamp': datetime.datetime(2022, 7, 24, 2, 20, 9)}, {'Tweets': 'RT @_Maria_Diana_: ¿Has visto esta misteriosa luz?\\n¿Es otro satélite Starlink?\\nUn resplandor con forma de circunferencia y en movimiento ca…', 'Timestamp': datetime.datetime(2022, 7, 24, 2, 20, 9)}, {'Tweets': 'A simple concept that socialists can’t understand #economy #money #basiceconomics #ElonMusk https://t.co/GcTv4Sk9hh', 'Timestamp': datetime.datetime(2022, 7, 24, 2, 19, 38)}, {'Tweets': \"RT @mainline_intel: 1/5\\nEveryone is asking the wrong question on this spam debate. It's not Bots vs Humans. We should be looking for coordi…\", 'Timestamp': datetime.datetime(2022, 7, 24, 2, 19, 26)}, {'Tweets': 'RT @erickmilanpunto: @elonmusk cada vez quiere parecerce más a @RicardoBSalinas \\n\\n😱Ahora quiere crear una súperapp como @bazsuperapp\\n\\n#Elon…', 'Timestamp': datetime.datetime(2022, 7, 24, 2, 18, 36)}, {'Tweets': 'Para sorpresa de nadie, #ElonMusk se retiró del acuerdo de compra con Twitter y podría enfrentarse a una demanda.… https://t.co/EKRBnAodWa', 'Timestamp': datetime.datetime(2022, 7, 24, 2, 18)}, {'Tweets': '@dogecoinwailord #dammit #ElonMusk Wen #EDIT', 'Timestamp': datetime.datetime(2022, 7, 24, 2, 16, 48)}, {'Tweets': 'RT @erickmilanpunto: @elonmusk cada vez quiere parecerce más a @RicardoBSalinas \\n\\n😱Ahora quiere crear una súperapp como @bazsuperapp\\n\\n#Elon…', 'Timestamp': datetime.datetime(2022, 7, 24, 2, 16, 44)}, {'Tweets': \"Y'all just ain't right 😂💀 #MedicalJoke #ElonMusk #Musk #Mollusk #AmberHeardDeservesPrison… https://t.co/VqkhRJDNoZ\", 'Timestamp': datetime.datetime(2022, 7, 24, 2, 16, 11)}, {'Tweets': 'RT @drive_crypto: We are proud to announce that we will launch on @LBank_Exchange - one of the Top 20 exchanges worldwide!!\\n\\n$Drivecripto t…', 'Timestamp': datetime.datetime(2022, 7, 24, 2, 15, 30)}, {'Tweets': 'RT @DiegoSC200287: Please list our @RDNE_TOKEN extraordinary project.\\n@Nova_DAX\\n@binance\\n@gate_io\\n@coinbase\\n@MercadoBitcoin\\n@CoinMarketCap…', 'Timestamp': datetime.datetime(2022, 7, 24, 2, 15)}, {'Tweets': '@ErcXspace @SpaceX @elonmusk “And beyond “ #elonmusk', 'Timestamp': datetime.datetime(2022, 7, 24, 2, 12, 36)}, {'Tweets': 'Aus dem Archiv: Die „Elektropolis“ Berlin war einst führend in der modernsten Technologie. Sie baute auch Elektrofa… https://t.co/XuRXYdlLAs', 'Timestamp': datetime.datetime(2022, 7, 24, 2, 11, 53)}, {'Tweets': 'RT @simoninferno: Preorder some now so you too can glow in full sunlight!  @elonmusk    #pantone\\n#ElonMusk @iamgabesanchez https://t.co/px2…', 'Timestamp': datetime.datetime(2022, 7, 24, 2, 11, 20)}, {'Tweets': 'RT @stratorob: Who needs #Twitter! #Tesla profits rise by 25% more than analysts forecast after #ElonMusk-owned firm raised prices of its c…', 'Timestamp': datetime.datetime(2022, 7, 24, 2, 10, 55)}, {'Tweets': 'RT @dellyranksindia: Internal Meta study shows why Indian women shun Facebook; Maruti Suzuki wants govt to look beyond EVs #bitcoin #byteda…', 'Timestamp': datetime.datetime(2022, 7, 24, 2, 9, 26)}, {'Tweets': 'WIP @TotalitasWattz @AstroSmokey68 @elonmusk #3Dprinting #Mechazilla #BocaChicaToMars #ElonMusk #SpaceX #Starbase… https://t.co/jtn4k3vckH', 'Timestamp': datetime.datetime(2022, 7, 24, 2, 9, 8)}, {'Tweets': 'RT @MrShinyBird: To celebrate my evolution, I offer you this #Giveaway 🐦✨ As usual winners will be picked with twitter picker, 100% legit!…', 'Timestamp': datetime.datetime(2022, 7, 24, 2, 8, 46)}, {'Tweets': 'RT @MrShinyBird: To celebrate my evolution, I offer you this #Giveaway 🐦✨ As usual winners will be picked with twitter picker, 100% legit!…', 'Timestamp': datetime.datetime(2022, 7, 24, 2, 8, 16)}, {'Tweets': '#whatsapp #instagram #tiktok #youtube #facebook #twitter #swarm #youtubechannel #youtuber #takip #keşfet #öneçıkar… https://t.co/oK9Qd9V0dI', 'Timestamp': datetime.datetime(2022, 7, 24, 2, 7, 58)}, {'Tweets': '#monkeypox #ElonMusk #deprem https://t.co/Dz3GrMPXvx', 'Timestamp': datetime.datetime(2022, 7, 24, 2, 7, 12)}, {'Tweets': 'Eduofans增粉，势不可挡。\\nhttps://t.co/gBwdf85Izs\\n\\n#增粉平台 #刷like #BORA #ig赞 #上热门 #陳卓賢ian #DASH #ElonMusk #拜登 #韓式 #推特号出售 #飄眉… https://t.co/YEsWQWIolC', 'Timestamp': datetime.datetime(2022, 7, 24, 2, 4)}, {'Tweets': '@MrShinyBird Blessed is the hands that gives &amp; thanks for this absolutely awesome chance @MrShinyBird 👏… https://t.co/qvhDOmkLA4', 'Timestamp': datetime.datetime(2022, 7, 24, 2, 2, 22)}, {'Tweets': 'RT @vivek_mandhare: #MarriageStrike \\n#GenderBiasedLaws \\n#498A \\n#FakeCases \\n#Judiciary \\n\\n#ElonMusk \\n#SUGA \\n#Tesla \\n#Madrid \\n#mensrights \\n#Me…', 'Timestamp': datetime.datetime(2022, 7, 24, 2, 1, 51)}, {'Tweets': 'Don’t forget the south paw: #ElonMusk is a hack https://t.co/IrUefgRBhY', 'Timestamp': datetime.datetime(2022, 7, 24, 2, 1, 16)}, {'Tweets': 'Internal Meta study shows why Indian women shun Facebook; Maruti Suzuki wants govt to look beyond EVs #bitcoin… https://t.co/K7Ene46ZTs', 'Timestamp': datetime.datetime(2022, 7, 24, 2, 1, 14)}, {'Tweets': 'RT @Trader4lyf: Bruh, you don’t want to be the #ElonMusk of #catecoin - because we going much higher https://t.co/dfpvaqqK8W', 'Timestamp': datetime.datetime(2022, 7, 24, 1, 59, 50)}, {'Tweets': 'RT @metabilliards: Meta Billiards challange! \\n\\nClick here and participate for a chance to win great prizes! 👇👇👇👇👇\\n\\nhttps://t.co/nOHBSJQ8yN…', 'Timestamp': datetime.datetime(2022, 7, 24, 1, 59, 15)}, {'Tweets': 'RT @MrShinyBird: To celebrate my evolution, I offer you this #Giveaway 🐦✨ As usual winners will be picked with twitter picker, 100% legit!…', 'Timestamp': datetime.datetime(2022, 7, 24, 1, 59, 5)}, {'Tweets': '@elonmusk Reis #ElonMusk https://t.co/Vwz5oJKsSL', 'Timestamp': datetime.datetime(2022, 7, 24, 1, 57, 50)}, {'Tweets': 'RT @metabilliards: Meta Billiards challange! \\n\\nClick here and participate for a chance to win great prizes! 👇👇👇👇👇\\n\\nhttps://t.co/nOHBSJQ8yN…', 'Timestamp': datetime.datetime(2022, 7, 24, 1, 57, 49)}, {'Tweets': '#Crypto #NFT #NFTCommunity #cryptocurrency #Nfts #BTC #ETH #BNB #Binance #ElonMusk  #Giveaway #GiveawayAlert… https://t.co/7qC8K3MOeF', 'Timestamp': datetime.datetime(2022, 7, 24, 1, 57, 22)}, {'Tweets': 'Mientras el dueño de Tesla, Elon Musk, ahora intenta echar para atrás su propuesta de adquisición de Twitter,el pro… https://t.co/dtmjZ6yekC', 'Timestamp': datetime.datetime(2022, 7, 24, 1, 56, 4)}, {'Tweets': 'RT @metabilliards: Meta Billiards challange! \\n\\nClick here and participate for a chance to win great prizes! 👇👇👇👇👇\\n\\nhttps://t.co/nOHBSJQ8yN…', 'Timestamp': datetime.datetime(2022, 7, 24, 1, 55, 43)}, {'Tweets': 'On Friday, #Twitter Inc. reported it lost $270 million in revenue for the second fiscal quarter of 2022, blaming ad… https://t.co/EMLm6JZDdD', 'Timestamp': datetime.datetime(2022, 7, 24, 1, 55, 30)}, {'Tweets': 'RT @MrShinyBird: To celebrate my evolution, I offer you this #Giveaway 🐦✨ As usual winners will be picked with twitter picker, 100% legit!…', 'Timestamp': datetime.datetime(2022, 7, 24, 1, 55, 21)}, {'Tweets': '$inus Dextool chart：\\nhttps://t.co/62TjZ63HmV\\n\\n#MEME #ETH #crypto #Bitcoin\\xa0 #BitcoinCash #bbcnews #BBCBreakfast… https://t.co/AcK0l6sa3l', 'Timestamp': datetime.datetime(2022, 7, 24, 1, 54, 51)}, {'Tweets': 'Elon Musk #ElonMusk  #elonmusktwitter  yaparsa Elon muks yapar https://t.co/Q8fbOjKPE1', 'Timestamp': datetime.datetime(2022, 7, 24, 1, 54, 5)}, {'Tweets': 'RT @metabilliards: Meta Billiards challange! \\n\\nClick here and participate for a chance to win great prizes! 👇👇👇👇👇\\n\\nhttps://t.co/nOHBSJQ8yN…', 'Timestamp': datetime.datetime(2022, 7, 24, 1, 53, 51)}, {'Tweets': '#IsmabigolATwitter\\n#SuarezANacional\\n#NuevaFotoDePerfil \\n#ElonMusk', 'Timestamp': datetime.datetime(2022, 7, 24, 1, 53, 40)}, {'Tweets': \"@elonmusk @Rainmaker1973 Some thing that can easily happen again with over 100 active volcanoes. How's the mars thing coming #ElonMusk ?\", 'Timestamp': datetime.datetime(2022, 7, 24, 1, 53, 29)}, {'Tweets': 'Thermoseal Teeth Whitening Toothpaste https://t.co/8TfxCtpp1c \\n\\n#TEeThanapon #Trending #productdevelopment #market… https://t.co/1uLufGRhA8', 'Timestamp': datetime.datetime(2022, 7, 24, 1, 52, 52)}, {'Tweets': 'RT @drive_crypto: We are proud to announce that we will launch on @LBank_Exchange - one of the Top 20 exchanges worldwide!!\\n\\n$Drivecripto t…', 'Timestamp': datetime.datetime(2022, 7, 24, 1, 52, 41)}, {'Tweets': 'MultiPlanetary $INUS = #memes+#Metaverse+ #GameFi+ #SocialFi\\n\\n#MEME #ETH #crypto #Bitcoin\\xa0 #BitcoinCash #bbcnews… https://t.co/T9krKO7fSy', 'Timestamp': datetime.datetime(2022, 7, 24, 1, 52, 20)}, {'Tweets': 'RT @DoggyGems: MultiPlanetary $INUS = #memes+#Metaverse+ #GameFi+ #SocialFi\\n\\n#MEME #ETH #crypto #Bitcoin #BitcoinCash #bbcnews #BBCBreakfas…', 'Timestamp': datetime.datetime(2022, 7, 24, 1, 51, 51)}, {'Tweets': 'Not sure how the #Trending topics are picked, but topics are very juvenile.  #Twitter do better. #ElonMusk help them grow up.', 'Timestamp': datetime.datetime(2022, 7, 24, 1, 51, 16)}, {'Tweets': 'RT @MrShinyBird: To celebrate my evolution, I offer you this #Giveaway 🐦✨ As usual winners will be picked with twitter picker, 100% legit!…', 'Timestamp': datetime.datetime(2022, 7, 24, 1, 51, 12)}, {'Tweets': '@elonmusk Space ex gonna be next uber of space way to @elonmusk thinking of unthinkable #ElonMusk #ElonMuskTesla', 'Timestamp': datetime.datetime(2022, 7, 24, 1, 48, 35)}, {'Tweets': 'RT @p1ntamonas: 💥 #MemeTech 🌜💎🌛 𝑪𝒉𝒆𝒆𝒎𝒔 𝑰𝒏𝒖\\n✖️1⃣0⃣0⃣0⃣0⃣0⃣  🔥🚀\\n\\n@CheemsInu @1goonrich @elonmusk @cz_binance @kucoincom @cryptocom @binance @…', 'Timestamp': datetime.datetime(2022, 7, 24, 1, 48, 28)}, {'Tweets': 'RT @MrShinyBird: To celebrate my evolution, I offer you this #Giveaway 🐦✨ As usual winners will be picked with twitter picker, 100% legit!…', 'Timestamp': datetime.datetime(2022, 7, 24, 1, 48, 22)}, {'Tweets': 'RT @Charlotteinus1: MultiPlanetary $INUS = #memes+#Metaverse+ #GameFi+ #SocialFi\\n\\n#MEME #ETH #crypto #Bitcoin\\xa0 #BitcoinCash #bbcnews #BBCBr…', 'Timestamp': datetime.datetime(2022, 7, 24, 1, 48, 14)}, {'Tweets': '@MrShinyBird #Crypto #NFT #NFTCommunity #cryptocurrency #Nfts #BTC #ETH #BNB #Binance #ElonMusk  #Giveaway… https://t.co/X8ziSYxqQC', 'Timestamp': datetime.datetime(2022, 7, 24, 1, 47, 9)}, {'Tweets': 'RT @gonzluks4: @MrShinyBird #Crypto #NFT #NFTCommunity #cryptocurrency #Nfts #BTC #ETH #BNB #Binance #ElonMusk  #Giveaway #GiveawayAlert…', 'Timestamp': datetime.datetime(2022, 7, 24, 1, 47, 7)}, {'Tweets': '@RealJamesWoods I never pull out #ElonMusk', 'Timestamp': datetime.datetime(2022, 7, 24, 1, 46, 29)}, {'Tweets': \"RT @MemeMarketHQ: what's your name again??\\n\\n#meme #mememarket #elonmusk #ai #willsmith #memer #wholesome #memecoins https://t.co/uvvQR2sMX6\", 'Timestamp': datetime.datetime(2022, 7, 24, 1, 46, 20)}, {'Tweets': 'RT @SokuSwap: Does #Crypto still care about @elonmusk ?\\n👇            👇 \\nYes           No\\n\\n#web3 #sokuswap #elonmusk #defi #bsc #ETH #Tesla…', 'Timestamp': datetime.datetime(2022, 7, 24, 1, 43, 59)}, {'Tweets': '@elonmusk @Tesla teslas just a car company that’s over valued / with bulletproof cyber trucks and army’s of bots te… https://t.co/6V2q7XpMe3', 'Timestamp': datetime.datetime(2022, 7, 24, 1, 43, 4)}, {'Tweets': 'As sea levels rise while there’s massive drought in the USA wouldn’t it be something if #ElonMusk and #JeffBezos bu… https://t.co/uTadEPyqbO', 'Timestamp': datetime.datetime(2022, 7, 24, 1, 42, 16)}, {'Tweets': 'RT @MrShinyBird: To celebrate my evolution, I offer you this #Giveaway 🐦✨ As usual winners will be picked with twitter picker, 100% legit!…', 'Timestamp': datetime.datetime(2022, 7, 24, 1, 40, 44)}, {'Tweets': \"@DorkKnight777 @AtheniaLuv @kokid951 I'm all in on #ArchieNeko, a great project with a great vision for the future.… https://t.co/D8iZwGAHx4\", 'Timestamp': datetime.datetime(2022, 7, 24, 1, 39, 53)}, {'Tweets': '#starlink #ElonMusk #aydinmerkez  @BurakYldzr4102 https://t.co/W7Pr5G6zF7', 'Timestamp': datetime.datetime(2022, 7, 24, 1, 38, 34)}, {'Tweets': 'We are NOW LISTED on Coin Paprika!\\nhttps://t.co/CQ4wCyWhcI 👈\\n#moneyisland #monland #memecoin #BSCgems #cats… https://t.co/Ora3Dpk8Pr', 'Timestamp': datetime.datetime(2022, 7, 24, 1, 36, 31)}, {'Tweets': 'RT @MrShinyBird: To celebrate my evolution, I offer you this #Giveaway 🐦✨ As usual winners will be picked with twitter picker, 100% legit!…', 'Timestamp': datetime.datetime(2022, 7, 24, 1, 36, 27)}, {'Tweets': '@smokeheadsnft #347 @elonmusk This is a 1% Legendary 3, I know you want to snag it! This would look sick as a vinyl… https://t.co/Df9oe4G7vY', 'Timestamp': datetime.datetime(2022, 7, 24, 1, 35, 53)}, {'Tweets': 'RT @Sow_Pulloh: Damn! This is awesome! @elonmusk Starlink satellites literally passing over our heads. \\n#Starlink #ElonMusk https://t.co/MO…', 'Timestamp': datetime.datetime(2022, 7, 24, 1, 35, 50)}, {'Tweets': 'RT @RUBARUBARAMULLA: #Children are the supreme assets of a #nation. They are the #greatest #hope for the #future of a nation\\n#Kashmir #Naya…', 'Timestamp': datetime.datetime(2022, 7, 24, 1, 35, 36)}, {'Tweets': 'Damn! This is awesome! @elonmusk Starlink satellites literally passing over our heads. \\n#Starlink #ElonMusk https://t.co/MO1NDmh2AR', 'Timestamp': datetime.datetime(2022, 7, 24, 1, 35, 12)}, {'Tweets': 'RT @drive_crypto: We are proud to announce that we will launch on @LBank_Exchange - one of the Top 20 exchanges worldwide!!\\n\\n$Drivecripto t…', 'Timestamp': datetime.datetime(2022, 7, 24, 1, 34, 18)}, {'Tweets': 'RT @metabilliards: Meta Billiards challange! \\n\\nClick here and participate for a chance to win great prizes! 👇👇👇👇👇\\n\\nhttps://t.co/nOHBSJQ8yN…', 'Timestamp': datetime.datetime(2022, 7, 24, 1, 33, 58)}, {'Tweets': 'RT @dogecoinlabs: Elon Musk’s SpaceX Breaks Rocket Launch File With Starlink Mission\\n\\n#nft #metaverse #bitcoin #crypto #elonmusk #dogecoinl…', 'Timestamp': datetime.datetime(2022, 7, 24, 1, 32, 25)}, {'Tweets': 'RT @MrShinyBird: To celebrate my evolution, I offer you this #Giveaway 🐦✨ As usual winners will be picked with twitter picker, 100% legit!…', 'Timestamp': datetime.datetime(2022, 7, 24, 1, 31, 41)}, {'Tweets': 'RT @rogdzz: Anyone mint #ElonMusk yet?\\n#Tron #NFT #NFTCommunity #AfricaStars', 'Timestamp': datetime.datetime(2022, 7, 24, 1, 31, 4)}, {'Tweets': 'Wow #Synchron hooked-up. Beat #ElonMusk to be the first. \\nhttps://t.co/VKIcOdNzlU', 'Timestamp': datetime.datetime(2022, 7, 24, 1, 29, 42)}, {'Tweets': 'RT @keexiah7: Be part of the best community in the #metaverse \\nBag up $marvin today! #1000x returns is inevitable 🔥\\n\\n#MarvinInu #1000xgem #…', 'Timestamp': datetime.datetime(2022, 7, 24, 1, 28, 36)}, {'Tweets': 'RT @MRSBabaYaga00: Who did this??? 😂😂😂💀 #ElonMusk #Mollusk #Tusk #AmberHeardDeservesPrison #AmberHeardIsFinished #AmberHeardlsAnAbuser http…', 'Timestamp': datetime.datetime(2022, 7, 24, 1, 28, 8)}, {'Tweets': '#TrumpRally #TrendingNow #ElonMusk \\n#TrumpWasRight \\n#TrumpRallyArizona \\n#theworldmustknow\\n#theyhurtthekids\\n#Truth… https://t.co/yFWu8dehbG', 'Timestamp': datetime.datetime(2022, 7, 24, 1, 27, 28)}, {'Tweets': 'RT @Blockchic: @slashdot @RandyMcMillan You guys, #ElonMusk is not the boss of #Twitter. Who is tho..?', 'Timestamp': datetime.datetime(2022, 7, 24, 1, 26, 53)}, {'Tweets': 'What are you drinking in the tropics when #ETH skyrockets? @RealShibaDoge #Cryptocurency #NFTs #shib #dogecoin #ElonMusk', 'Timestamp': datetime.datetime(2022, 7, 24, 1, 26, 48)}, {'Tweets': 'RT @OKMrMax: Twitter post-Musk está condenado. Las plataformas de medios sociales disruptivas lo reemplazarán: CEO de @GETTRofficial @Jason…', 'Timestamp': datetime.datetime(2022, 7, 24, 1, 25, 33)}, {'Tweets': 'RT @zeroshorts: In Q2, $TSLA had to dump #Bitcoin for a $106M loss to raise $936M cash. #ElonMusk said #Tesla needed to shore up its cash p…', 'Timestamp': datetime.datetime(2022, 7, 24, 1, 25, 17)}, {'Tweets': \"RT @USforexnews: Tesla, CEO Elon Musk'ın otomotiv devini özel şirket haline getirmekle ilgili 2018'deki tweetler nedeniyle yatırımcıların a…\", 'Timestamp': datetime.datetime(2022, 7, 24, 1, 25, 9)}, {'Tweets': 'Tesla Dumping 75% of Its Bitcoin Doesn’t ‘Mean Much,’ Says the World’s Richest Crypto Billionaire ?..… https://t.co/koxiOv2uU1', 'Timestamp': datetime.datetime(2022, 7, 24, 1, 25, 1)}, {'Tweets': 'RT @LongBandAlien: 👽5,555 Collectibles Available Now!\\n👽1/1.\\n👽All Price 0.005 Polygon\\n\\nhttps://t.co/Y8HHEhps6n\\n\\n#longbandalien #alien #pluto…', 'Timestamp': datetime.datetime(2022, 7, 24, 1, 24, 51)}, {'Tweets': 'Tüm aile yıldız kayıyor diye dilek tuttuk #ElonMusk', 'Timestamp': datetime.datetime(2022, 7, 24, 1, 24, 43)}, {'Tweets': 'RT @CryptoXMad: Shill me your #Gems ready to moon 🌚 🚀\\n\\n#memecoins #altcoins #dolar #Solana #ElonMusk', 'Timestamp': datetime.datetime(2022, 7, 24, 1, 22, 44)}, {'Tweets': '@PANDAKIRU_INU @GoblinTwoBSC @1goonrich you know wasup when you have a experienced team behind a good project… https://t.co/fyAUatvijP', 'Timestamp': datetime.datetime(2022, 7, 24, 1, 22, 17)}, {'Tweets': '@slashdot @RandyMcMillan You guys, #ElonMusk is not the boss of #Twitter. Who is tho..?', 'Timestamp': datetime.datetime(2022, 7, 24, 1, 22)}, {'Tweets': 'RT @dogelabsfunclub: Elon Musk’s SpaceX breaks a significant file for rocket launches\\n\\n#nft #metaverse #bitcoin #crypto #elonmusk #dogecoin…', 'Timestamp': datetime.datetime(2022, 7, 24, 1, 21, 8)}, {'Tweets': 'RT @MrShinyBird: To celebrate my evolution, I offer you this #Giveaway 🐦✨ As usual winners will be picked with twitter picker, 100% legit!…', 'Timestamp': datetime.datetime(2022, 7, 24, 1, 20, 11)}, {'Tweets': 'RT @DiegoSC200287: Please list our @RDNE_TOKEN extraordinary project.\\n@Nova_DAX\\n@binance\\n@gate_io\\n@coinbase\\n@MercadoBitcoin\\n@CoinMarketCap…', 'Timestamp': datetime.datetime(2022, 7, 24, 1, 19, 52)}, {'Tweets': 'RT @metabilliards: Meta Billiards challange! \\n\\nClick here and participate for a chance to win great prizes! 👇👇👇👇👇\\n\\nhttps://t.co/nOHBSJQ8yN…', 'Timestamp': datetime.datetime(2022, 7, 24, 1, 19, 48)}, {'Tweets': 'RT @instajacome: Elon musk shirtless 😲 #meme #elon #elonmusk #gordito https://t.co/GAUkhFZPnJ', 'Timestamp': datetime.datetime(2022, 7, 24, 1, 19, 46)}, {'Tweets': '@kukuzi2 #BabyDoge #BabyDogeCoin #BabyDogeArmy #BabyDogeCoinTürkiye #Binance #BabyDogeBinance #Babydogecoinpump… https://t.co/roa2VMhDdc', 'Timestamp': datetime.datetime(2022, 7, 24, 1, 19, 9)}, {'Tweets': 'Day 84 tweeting @elonmusk   Help me out and flip a bag my guy. #MarvelStudios #ElonMusk', 'Timestamp': datetime.datetime(2022, 7, 24, 1, 18, 6)}, {'Tweets': 'RT @TiwariAshram: Dogecoin is going to wallet from exchanges #dogecoin #doge $doge #DoOnlyGoodEveryday #ElonMusk https://t.co/WhhYn9mrSg', 'Timestamp': datetime.datetime(2022, 7, 24, 1, 17, 34)}, {'Tweets': 'RT @MrShinyBird: To celebrate my evolution, I offer you this #Giveaway 🐦✨ As usual winners will be picked with twitter picker, 100% legit!…', 'Timestamp': datetime.datetime(2022, 7, 24, 1, 17, 34)}, {'Tweets': 'RT @metabilliards: Meta Billiards challange! \\n\\nClick here and participate for a chance to win great prizes! 👇👇👇👇👇\\n\\nhttps://t.co/nOHBSJQ8yN…', 'Timestamp': datetime.datetime(2022, 7, 24, 1, 17, 9)}, {'Tweets': 'RT @MrShinyBird: To celebrate my evolution, I offer you this #Giveaway 🐦✨ As usual winners will be picked with twitter picker, 100% legit!…', 'Timestamp': datetime.datetime(2022, 7, 24, 1, 17, 6)}, {'Tweets': 'Twitter post-Musk está condenado. Las plataformas de medios sociales disruptivas lo reemplazarán: CEO de… https://t.co/L4TIZ4KdYj', 'Timestamp': datetime.datetime(2022, 7, 24, 1, 16, 48)}, {'Tweets': 'Make Real Estate GREAT AGAIN!!! on The Blockchain\\n\\n#Ethereum #ElonMusk #Optimism #NFTCommunity #NFT #BAYC', 'Timestamp': datetime.datetime(2022, 7, 24, 1, 16, 46)}, {'Tweets': \"RT @WhaleVentures1: Elon, you don't understand Bitcoin.\\n\\n#Bitcoin #ElonMusk #elon #tesla  #BTC https://t.co/ALZ19RrRew\", 'Timestamp': datetime.datetime(2022, 7, 24, 1, 16, 37)}, {'Tweets': 'Saw this funny news today 🤣🤣🤣\\n\\nMark Cuban once asked @elonmusk how many children he wants to have, he replied, \"Mar… https://t.co/0amZBgAh5u', 'Timestamp': datetime.datetime(2022, 7, 24, 1, 15, 42)}, {'Tweets': '@SophiaChart #BabyDoge #BabyDogeCoin #BabyDogeArmy #BabyDogeCoinTürkiye #Binance #BabyDogeBinance #Babydogecoinpump… https://t.co/3gRG7xCDKJ', 'Timestamp': datetime.datetime(2022, 7, 24, 1, 14, 54)}, {'Tweets': '#Starlink #Spacex  #ElonMusk Starlink goes over my house. Pretty neat! 🤘Nova Scotia 🇨🇦 https://t.co/tITn87hZks', 'Timestamp': datetime.datetime(2022, 7, 24, 1, 14, 12)}, {'Tweets': '@BDC_Archive #BabyDoge #BabyDogeCoin #BabyDogeArmy #BabyDogeCoinTürkiye #Binance #BabyDogeBinance #Babydogecoinpump… https://t.co/hakmn9SgAF', 'Timestamp': datetime.datetime(2022, 7, 24, 1, 12, 59)}, {'Tweets': '@SophiaChart #BabyDoge #BabyDogeCoin #BabyDogeArmy #BabyDogeCoinTürkiye #Binance #BabyDogeBinance #Babydogecoinpump… https://t.co/2CbrwatdPV', 'Timestamp': datetime.datetime(2022, 7, 24, 1, 12, 26)}, {'Tweets': \"@AlanR666666 @LittleBird203 @thebradfordfile Here's one of the bots Twitter didn't count. Little wonder #ElonMusk r… https://t.co/IaShb8ZjIQ\", 'Timestamp': datetime.datetime(2022, 7, 24, 1, 11, 57)}, {'Tweets': 'RT @Shibaflokitoken: You will always win as you continue with us #FLOKI #ElonMusk #shibaflokiinu #Binance https://t.co/qLe5sUOGQq', 'Timestamp': datetime.datetime(2022, 7, 24, 1, 11, 19)}, {'Tweets': '$ELON is best  \\uea00#DogelonMars .. #Dogelon #ELON#NFT #elonmusk #cryptocom https://t.co/LJIzTc8EX6', 'Timestamp': datetime.datetime(2022, 7, 24, 1, 9, 35)}, {'Tweets': 'My goal is to have Bitcoin in my wallet.\\n\\n#ElonMusk', 'Timestamp': datetime.datetime(2022, 7, 24, 1, 8, 31)}, {'Tweets': 'RT @TiwariAshram: Dogecoin is going to wallet from exchanges #dogecoin #doge $doge #DoOnlyGoodEveryday #ElonMusk https://t.co/WhhYn9mrSg', 'Timestamp': datetime.datetime(2022, 7, 24, 1, 8, 9)}, {'Tweets': 'RT @stevenmarkryan: https://t.co/81Q64qkQ2w - Tesla Stock Will CRASH -69% ($250/share) Says Analyst\\n\\nNEW\\n \\n$TSLA #Tesla #TSLA #TeslaStock #…', 'Timestamp': datetime.datetime(2022, 7, 24, 1, 7, 20)}, {'Tweets': '@elonmusk could I get a Tesla for free? Lol #Tesla #ElonMusk #SpaceX #gascosttomuch', 'Timestamp': datetime.datetime(2022, 7, 24, 1, 7, 19)}, {'Tweets': '#Tesla Links to TESLA VEHICLES #ElonMusk #electric #vehicles #Cybertruck #about_tesla\\nhttps://t.co/GENO5Zozxq\\nhttps://t.co/8g275G5BMY', 'Timestamp': datetime.datetime(2022, 7, 24, 1, 6, 18)}, {'Tweets': 'Want Bitcoin  ;-D \\n Wallet Address: bc1q8t5xtfxdy40v4spt4ax24rmnr8k39zcty6j4xj\\n\\nShare and comment for me to achieve… https://t.co/2kUUrYnM5X', 'Timestamp': datetime.datetime(2022, 7, 24, 1, 5, 42)}, {'Tweets': 'RT @hbesya: Çok az kaldı desteğinize ihtiyaç var gönderiyi görenler yardım edebilirmi #kedi #MasterChef2022 #ACİL #ElonMusk #Merkez https:/…', 'Timestamp': datetime.datetime(2022, 7, 24, 1, 3, 25)}, {'Tweets': '@MattWallace888 #ElonMusk has done a lot for humanity and #doge', 'Timestamp': datetime.datetime(2022, 7, 24, 1, 3, 2)}, {'Tweets': 'RT @Dogelonism: $ELON is best  \\uea00\\n#DogelonMars .. #Dogelon #ELON\\n#NFT #elonmusk #cryptocom https://t.co/cT1STq3W7F', 'Timestamp': datetime.datetime(2022, 7, 24, 1, 2, 54)}, {'Tweets': 'RT @Dogelonism: $ELON is best  \\uea00\\n#DogelonMars  #Dogelon #ELON\\n#NFT #elonmusk #cryptocom https://t.co/svPLpGLC9S', 'Timestamp': datetime.datetime(2022, 7, 24, 1, 1, 59)}, {'Tweets': 'Who needs #Twitter! #Tesla profits rise by 25% more than analysts forecast after #ElonMusk-owned firm raised prices… https://t.co/PymZsf3TON', 'Timestamp': datetime.datetime(2022, 7, 24, 1, 0, 22)}, {'Tweets': '@db_witch that’s such a dank meme!! #elonmusk #memes #funny', 'Timestamp': datetime.datetime(2022, 7, 24, 1, 0, 15)}, {'Tweets': 'RT @RWHarmonicas: Seydel Session Antique Harmonica; https://t.co/NVySmKbuHq @RWHarmonicas #ElonMusk #musicshower #musica #harmonica #Play2E…', 'Timestamp': datetime.datetime(2022, 7, 24, 1, 0, 6)}, {'Tweets': 'RT @MrShinyBird: To celebrate my evolution, I offer you this #Giveaway 🐦✨ As usual winners will be picked with twitter picker, 100% legit!…', 'Timestamp': datetime.datetime(2022, 7, 24, 0, 59, 14)}, {'Tweets': '스타링크(Starlink) 전세계 36개국에서 사용가능!_미국주식x미국개미 https://t.co/Jvgk8tkWNv \\n\\n#스타링크 #스페이스X #테슬라 #일론머스크 #Starlink #SpaceX #Tesla #Elonmusk', 'Timestamp': datetime.datetime(2022, 7, 24, 0, 59)}, {'Tweets': \"RT @martinWanique: There's no other project that #VOLT as much as #VOLTINU #VOLTARMY \\n31 CEX listings, 3 fiat gateway, partnerships &amp; spons…\", 'Timestamp': datetime.datetime(2022, 7, 24, 0, 58, 31)}, {'Tweets': \"RT @martinWanique: There's no other project that #VOLT as much as #VOLTINU #VOLTARMY \\n31 CEX listings, 3 fiat gateway, partnerships &amp; spons…\", 'Timestamp': datetime.datetime(2022, 7, 24, 0, 58, 21)}, {'Tweets': '🌭 Glizzy post of the day!🌭 \\n\\n#Glizzy #hotdog #lunch #smooth #food #cringe #NewProfilePic #cursed #lunch #dinner… https://t.co/YBh8ue2MdU', 'Timestamp': datetime.datetime(2022, 7, 24, 0, 57, 48)}, {'Tweets': '@elonmusk play a MetaBilliards Game with me! Accept the challenge! https://t.co/jD1tQriv1A #BLDS #MetaBilliards… https://t.co/m9t9Eqypyp', 'Timestamp': datetime.datetime(2022, 7, 24, 0, 57, 21)}, {'Tweets': 'RT @metabilliards: Meta Billiards challange! \\n\\nClick here and participate for a chance to win great prizes! 👇👇👇👇👇\\n\\nhttps://t.co/nOHBSJQ8yN…', 'Timestamp': datetime.datetime(2022, 7, 24, 0, 57, 3)}, {'Tweets': \"RT @WhaleVentures1: Elon, you don't understand Bitcoin.\\n\\n#Bitcoin #ElonMusk #elon #tesla  #BTC https://t.co/ALZ19RrRew\", 'Timestamp': datetime.datetime(2022, 7, 24, 0, 56, 53)}]\n"
          ]
        }
      ]
    },
    {
      "cell_type": "code",
      "source": [
        "df=pd.DataFrame(tweets)"
      ],
      "metadata": {
        "id": "flGNRy_cY_HU"
      },
      "execution_count": 12,
      "outputs": []
    },
    {
      "cell_type": "code",
      "source": [
        "df.Tweets.head()"
      ],
      "metadata": {
        "colab": {
          "base_uri": "https://localhost:8080/"
        },
        "id": "qWXU8QuUZHtP",
        "outputId": "fc9f8436-c81d-4ac9-d625-1e84323757b7"
      },
      "execution_count": 13,
      "outputs": [
        {
          "output_type": "execute_result",
          "data": {
            "text/plain": [
              "0    RT @metabilliards: Meta Billiards challange! \\...\n",
              "1    Elon Musk’s Tesla has revealed in their second...\n",
              "2    RT @MarkFarentino: Felicity BoulAvard atBook D...\n",
              "3    RT @LunchWithElonM: Day 102 of asking @elonmus...\n",
              "4    #ElonMusk #avrupa #AMERIKA #RecepTayyipErdogan...\n",
              "Name: Tweets, dtype: object"
            ]
          },
          "metadata": {},
          "execution_count": 13
        }
      ]
    },
    {
      "cell_type": "code",
      "source": [
        "df['Tweets'] = df['Tweets'].apply(lambda x: \" \".join(x.lower() for x in str(x).split()))"
      ],
      "metadata": {
        "id": "re7JMyegZIKP"
      },
      "execution_count": 14,
      "outputs": []
    },
    {
      "cell_type": "code",
      "source": [
        "#cleaning all the unnecessary texts from the tweets\n",
        "\n",
        "df['Tweets']=df['Tweets'].str.replace('[^\\w\\s]',\"\")\n",
        "df['Tweets']=df['Tweets'].str.replace('rt',\"\")\n",
        "df['Tweets']=df['Tweets'].str.replace('#ElonMusk',\"\")\n",
        "\n",
        "df.Tweets.head(5)"
      ],
      "metadata": {
        "colab": {
          "base_uri": "https://localhost:8080/"
        },
        "id": "2USR7VmDZj3J",
        "outputId": "2016756e-baf4-4626-9cec-3ce6e53e2d36"
      },
      "execution_count": 20,
      "outputs": [
        {
          "output_type": "stream",
          "name": "stderr",
          "text": [
            "/usr/local/lib/python3.7/dist-packages/ipykernel_launcher.py:3: FutureWarning: The default value of regex will change from True to False in a future version.\n",
            "  This is separate from the ipykernel package so we can avoid doing imports until\n"
          ]
        },
        {
          "output_type": "execute_result",
          "data": {
            "text/plain": [
              "0     metabilliards meta billiards challange click ...\n",
              "1    elon musks tesla has revealed in their second ...\n",
              "2     markfarentino felicity boulavard atbook distr...\n",
              "3     lunchwithelonm day 102 of asking elonmusk to ...\n",
              "4    elonmusk avrupa amerika receptayyiperdogan jap...\n",
              "Name: Tweets, dtype: object"
            ]
          },
          "metadata": {},
          "execution_count": 20
        }
      ]
    },
    {
      "cell_type": "code",
      "source": [
        "import re\n",
        "import nltk\n",
        "nltk.download('stopwords')\n",
        "from nltk.corpus import stopwords"
      ],
      "metadata": {
        "colab": {
          "base_uri": "https://localhost:8080/"
        },
        "id": "wUfg5p3Hm_Df",
        "outputId": "bc0c5328-3994-4f71-98a0-1ebc1adca389"
      },
      "execution_count": 25,
      "outputs": [
        {
          "output_type": "stream",
          "name": "stderr",
          "text": [
            "[nltk_data] Downloading package stopwords to /root/nltk_data...\n",
            "[nltk_data]   Package stopwords is already up-to-date!\n"
          ]
        }
      ]
    },
    {
      "cell_type": "code",
      "source": [
        "stop=stopwords.words('english')\n",
        "df['Tweets'] = df['Tweets'].apply(lambda x: \" \".join(x.lower() for x in str(x).split() \\\n",
        "                                    if x not in stop))"
      ],
      "metadata": {
        "id": "IX_lZIo9a1c9"
      },
      "execution_count": 27,
      "outputs": []
    },
    {
      "cell_type": "code",
      "source": [
        "from wordcloud import WordCloud\n",
        "from wordcloud import STOPWORDS"
      ],
      "metadata": {
        "id": "Q7zgF7eYbDJA"
      },
      "execution_count": 34,
      "outputs": []
    },
    {
      "cell_type": "code",
      "source": [
        "!pip install vaderSentiment\n",
        "!pip install Seaborn"
      ],
      "metadata": {
        "id": "qlz1anjSa3K9",
        "colab": {
          "base_uri": "https://localhost:8080/"
        },
        "outputId": "8ee97dca-1f68-4b98-e904-1f418661defe"
      },
      "execution_count": 39,
      "outputs": [
        {
          "output_type": "stream",
          "name": "stdout",
          "text": [
            "Looking in indexes: https://pypi.org/simple, https://us-python.pkg.dev/colab-wheels/public/simple/\n",
            "Requirement already satisfied: vaderSentiment in /usr/local/lib/python3.7/dist-packages (3.3.2)\n",
            "Requirement already satisfied: requests in /usr/local/lib/python3.7/dist-packages (from vaderSentiment) (2.23.0)\n",
            "Requirement already satisfied: certifi>=2017.4.17 in /usr/local/lib/python3.7/dist-packages (from requests->vaderSentiment) (2022.6.15)\n",
            "Requirement already satisfied: chardet<4,>=3.0.2 in /usr/local/lib/python3.7/dist-packages (from requests->vaderSentiment) (3.0.4)\n",
            "Requirement already satisfied: urllib3!=1.25.0,!=1.25.1,<1.26,>=1.21.1 in /usr/local/lib/python3.7/dist-packages (from requests->vaderSentiment) (1.24.3)\n",
            "Requirement already satisfied: idna<3,>=2.5 in /usr/local/lib/python3.7/dist-packages (from requests->vaderSentiment) (2.10)\n",
            "Looking in indexes: https://pypi.org/simple, https://us-python.pkg.dev/colab-wheels/public/simple/\n",
            "Requirement already satisfied: Seaborn in /usr/local/lib/python3.7/dist-packages (0.11.2)\n",
            "Requirement already satisfied: scipy>=1.0 in /usr/local/lib/python3.7/dist-packages (from Seaborn) (1.7.3)\n",
            "Requirement already satisfied: matplotlib>=2.2 in /usr/local/lib/python3.7/dist-packages (from Seaborn) (3.2.2)\n",
            "Requirement already satisfied: numpy>=1.15 in /usr/local/lib/python3.7/dist-packages (from Seaborn) (1.21.6)\n",
            "Requirement already satisfied: pandas>=0.23 in /usr/local/lib/python3.7/dist-packages (from Seaborn) (1.3.5)\n",
            "Requirement already satisfied: kiwisolver>=1.0.1 in /usr/local/lib/python3.7/dist-packages (from matplotlib>=2.2->Seaborn) (1.4.4)\n",
            "Requirement already satisfied: pyparsing!=2.0.4,!=2.1.2,!=2.1.6,>=2.0.1 in /usr/local/lib/python3.7/dist-packages (from matplotlib>=2.2->Seaborn) (3.0.9)\n",
            "Requirement already satisfied: python-dateutil>=2.1 in /usr/local/lib/python3.7/dist-packages (from matplotlib>=2.2->Seaborn) (2.8.2)\n",
            "Requirement already satisfied: cycler>=0.10 in /usr/local/lib/python3.7/dist-packages (from matplotlib>=2.2->Seaborn) (0.11.0)\n",
            "Requirement already satisfied: typing-extensions in /usr/local/lib/python3.7/dist-packages (from kiwisolver>=1.0.1->matplotlib>=2.2->Seaborn) (4.1.1)\n",
            "Requirement already satisfied: pytz>=2017.3 in /usr/local/lib/python3.7/dist-packages (from pandas>=0.23->Seaborn) (2022.1)\n",
            "Requirement already satisfied: six>=1.5 in /usr/local/lib/python3.7/dist-packages (from python-dateutil>=2.1->matplotlib>=2.2->Seaborn) (1.15.0)\n"
          ]
        }
      ]
    },
    {
      "cell_type": "code",
      "source": [
        "import seaborn as sns\n",
        "cp=sns.color_palette()\n",
        "import nltk \n",
        "import nltk.data\n",
        "from vaderSentiment.vaderSentiment import SentimentIntensityAnalyzer\n",
        "\n",
        "A=SentimentIntensityAnalyzer()"
      ],
      "metadata": {
        "id": "pozdvPx6osRp"
      },
      "execution_count": 41,
      "outputs": []
    },
    {
      "cell_type": "code",
      "source": [
        "emptyline=[]\n",
        "for row in df['Tweets']:\n",
        "    r=A.polarity_scores(row)\n",
        "    emptyline.append(r)"
      ],
      "metadata": {
        "id": "K01cDWy9pJRN"
      },
      "execution_count": 42,
      "outputs": []
    },
    {
      "cell_type": "code",
      "source": [
        "newdf=pd.DataFrame(emptyline)\n",
        "newdf.tail()"
      ],
      "metadata": {
        "colab": {
          "base_uri": "https://localhost:8080/",
          "height": 206
        },
        "id": "m0D4RPa_pLyA",
        "outputId": "d080929b-2ba7-43b2-cdf3-47930e12d732"
      },
      "execution_count": 45,
      "outputs": [
        {
          "output_type": "execute_result",
          "data": {
            "text/plain": [
              "     neg    neu    pos  compound\n",
              "401  0.0  1.000  0.000    0.0000\n",
              "402  0.0  1.000  0.000    0.0000\n",
              "403  0.0  0.526  0.474    0.6486\n",
              "404  0.0  0.352  0.648    0.9169\n",
              "405  0.0  1.000  0.000    0.0000"
            ],
            "text/html": [
              "\n",
              "  <div id=\"df-371e3d9e-a520-47cb-b27e-dcdc6ab53a73\">\n",
              "    <div class=\"colab-df-container\">\n",
              "      <div>\n",
              "<style scoped>\n",
              "    .dataframe tbody tr th:only-of-type {\n",
              "        vertical-align: middle;\n",
              "    }\n",
              "\n",
              "    .dataframe tbody tr th {\n",
              "        vertical-align: top;\n",
              "    }\n",
              "\n",
              "    .dataframe thead th {\n",
              "        text-align: right;\n",
              "    }\n",
              "</style>\n",
              "<table border=\"1\" class=\"dataframe\">\n",
              "  <thead>\n",
              "    <tr style=\"text-align: right;\">\n",
              "      <th></th>\n",
              "      <th>neg</th>\n",
              "      <th>neu</th>\n",
              "      <th>pos</th>\n",
              "      <th>compound</th>\n",
              "    </tr>\n",
              "  </thead>\n",
              "  <tbody>\n",
              "    <tr>\n",
              "      <th>401</th>\n",
              "      <td>0.0</td>\n",
              "      <td>1.000</td>\n",
              "      <td>0.000</td>\n",
              "      <td>0.0000</td>\n",
              "    </tr>\n",
              "    <tr>\n",
              "      <th>402</th>\n",
              "      <td>0.0</td>\n",
              "      <td>1.000</td>\n",
              "      <td>0.000</td>\n",
              "      <td>0.0000</td>\n",
              "    </tr>\n",
              "    <tr>\n",
              "      <th>403</th>\n",
              "      <td>0.0</td>\n",
              "      <td>0.526</td>\n",
              "      <td>0.474</td>\n",
              "      <td>0.6486</td>\n",
              "    </tr>\n",
              "    <tr>\n",
              "      <th>404</th>\n",
              "      <td>0.0</td>\n",
              "      <td>0.352</td>\n",
              "      <td>0.648</td>\n",
              "      <td>0.9169</td>\n",
              "    </tr>\n",
              "    <tr>\n",
              "      <th>405</th>\n",
              "      <td>0.0</td>\n",
              "      <td>1.000</td>\n",
              "      <td>0.000</td>\n",
              "      <td>0.0000</td>\n",
              "    </tr>\n",
              "  </tbody>\n",
              "</table>\n",
              "</div>\n",
              "      <button class=\"colab-df-convert\" onclick=\"convertToInteractive('df-371e3d9e-a520-47cb-b27e-dcdc6ab53a73')\"\n",
              "              title=\"Convert this dataframe to an interactive table.\"\n",
              "              style=\"display:none;\">\n",
              "        \n",
              "  <svg xmlns=\"http://www.w3.org/2000/svg\" height=\"24px\"viewBox=\"0 0 24 24\"\n",
              "       width=\"24px\">\n",
              "    <path d=\"M0 0h24v24H0V0z\" fill=\"none\"/>\n",
              "    <path d=\"M18.56 5.44l.94 2.06.94-2.06 2.06-.94-2.06-.94-.94-2.06-.94 2.06-2.06.94zm-11 1L8.5 8.5l.94-2.06 2.06-.94-2.06-.94L8.5 2.5l-.94 2.06-2.06.94zm10 10l.94 2.06.94-2.06 2.06-.94-2.06-.94-.94-2.06-.94 2.06-2.06.94z\"/><path d=\"M17.41 7.96l-1.37-1.37c-.4-.4-.92-.59-1.43-.59-.52 0-1.04.2-1.43.59L10.3 9.45l-7.72 7.72c-.78.78-.78 2.05 0 2.83L4 21.41c.39.39.9.59 1.41.59.51 0 1.02-.2 1.41-.59l7.78-7.78 2.81-2.81c.8-.78.8-2.07 0-2.86zM5.41 20L4 18.59l7.72-7.72 1.47 1.35L5.41 20z\"/>\n",
              "  </svg>\n",
              "      </button>\n",
              "      \n",
              "  <style>\n",
              "    .colab-df-container {\n",
              "      display:flex;\n",
              "      flex-wrap:wrap;\n",
              "      gap: 12px;\n",
              "    }\n",
              "\n",
              "    .colab-df-convert {\n",
              "      background-color: #E8F0FE;\n",
              "      border: none;\n",
              "      border-radius: 50%;\n",
              "      cursor: pointer;\n",
              "      display: none;\n",
              "      fill: #1967D2;\n",
              "      height: 32px;\n",
              "      padding: 0 0 0 0;\n",
              "      width: 32px;\n",
              "    }\n",
              "\n",
              "    .colab-df-convert:hover {\n",
              "      background-color: #E2EBFA;\n",
              "      box-shadow: 0px 1px 2px rgba(60, 64, 67, 0.3), 0px 1px 3px 1px rgba(60, 64, 67, 0.15);\n",
              "      fill: #174EA6;\n",
              "    }\n",
              "\n",
              "    [theme=dark] .colab-df-convert {\n",
              "      background-color: #3B4455;\n",
              "      fill: #D2E3FC;\n",
              "    }\n",
              "\n",
              "    [theme=dark] .colab-df-convert:hover {\n",
              "      background-color: #434B5C;\n",
              "      box-shadow: 0px 1px 3px 1px rgba(0, 0, 0, 0.15);\n",
              "      filter: drop-shadow(0px 1px 2px rgba(0, 0, 0, 0.3));\n",
              "      fill: #FFFFFF;\n",
              "    }\n",
              "  </style>\n",
              "\n",
              "      <script>\n",
              "        const buttonEl =\n",
              "          document.querySelector('#df-371e3d9e-a520-47cb-b27e-dcdc6ab53a73 button.colab-df-convert');\n",
              "        buttonEl.style.display =\n",
              "          google.colab.kernel.accessAllowed ? 'block' : 'none';\n",
              "\n",
              "        async function convertToInteractive(key) {\n",
              "          const element = document.querySelector('#df-371e3d9e-a520-47cb-b27e-dcdc6ab53a73');\n",
              "          const dataTable =\n",
              "            await google.colab.kernel.invokeFunction('convertToInteractive',\n",
              "                                                     [key], {});\n",
              "          if (!dataTable) return;\n",
              "\n",
              "          const docLinkHtml = 'Like what you see? Visit the ' +\n",
              "            '<a target=\"_blank\" href=https://colab.research.google.com/notebooks/data_table.ipynb>data table notebook</a>'\n",
              "            + ' to learn more about interactive tables.';\n",
              "          element.innerHTML = '';\n",
              "          dataTable['output_type'] = 'display_data';\n",
              "          await google.colab.output.renderOutput(dataTable, element);\n",
              "          const docLink = document.createElement('div');\n",
              "          docLink.innerHTML = docLinkHtml;\n",
              "          element.appendChild(docLink);\n",
              "        }\n",
              "      </script>\n",
              "    </div>\n",
              "  </div>\n",
              "  "
            ]
          },
          "metadata": {},
          "execution_count": 45
        }
      ]
    },
    {
      "cell_type": "code",
      "source": [
        "\n",
        "\n",
        "#adding this newdf to the actual dataset\n",
        "\n",
        "df_c=pd.concat([df.reset_index(drop=True),newdf],axis=1)\n",
        "df_c.head()\n",
        "\n"
      ],
      "metadata": {
        "colab": {
          "base_uri": "https://localhost:8080/",
          "height": 206
        },
        "id": "aH3qPUNJpZg4",
        "outputId": "0cea2276-d056-4c38-afbf-b86b703eea14"
      },
      "execution_count": 46,
      "outputs": [
        {
          "output_type": "execute_result",
          "data": {
            "text/plain": [
              "                                              Tweets           Timestamp  neg  \\\n",
              "0  metabilliards meta billiards challange click p... 2022-07-24 05:00:47  0.0   \n",
              "1  elon musks tesla revealed second quaer update ... 2022-07-24 05:00:33  0.0   \n",
              "2  markfarentino felicity boulavard atbook distri... 2022-07-24 05:00:10  0.0   \n",
              "3  lunchwithelonm day 102 asking elonmusk lunch e... 2022-07-24 05:00:01  0.0   \n",
              "4  elonmusk avrupa amerika receptayyiperdogan jap... 2022-07-24 04:59:19  0.0   \n",
              "\n",
              "     neu    pos  compound  \n",
              "0  0.352  0.648    0.9169  \n",
              "1  1.000  0.000    0.0000  \n",
              "2  1.000  0.000    0.0000  \n",
              "3  1.000  0.000    0.0000  \n",
              "4  1.000  0.000    0.0000  "
            ],
            "text/html": [
              "\n",
              "  <div id=\"df-c4ef6c47-e946-4233-94f0-83ee16cac93d\">\n",
              "    <div class=\"colab-df-container\">\n",
              "      <div>\n",
              "<style scoped>\n",
              "    .dataframe tbody tr th:only-of-type {\n",
              "        vertical-align: middle;\n",
              "    }\n",
              "\n",
              "    .dataframe tbody tr th {\n",
              "        vertical-align: top;\n",
              "    }\n",
              "\n",
              "    .dataframe thead th {\n",
              "        text-align: right;\n",
              "    }\n",
              "</style>\n",
              "<table border=\"1\" class=\"dataframe\">\n",
              "  <thead>\n",
              "    <tr style=\"text-align: right;\">\n",
              "      <th></th>\n",
              "      <th>Tweets</th>\n",
              "      <th>Timestamp</th>\n",
              "      <th>neg</th>\n",
              "      <th>neu</th>\n",
              "      <th>pos</th>\n",
              "      <th>compound</th>\n",
              "    </tr>\n",
              "  </thead>\n",
              "  <tbody>\n",
              "    <tr>\n",
              "      <th>0</th>\n",
              "      <td>metabilliards meta billiards challange click p...</td>\n",
              "      <td>2022-07-24 05:00:47</td>\n",
              "      <td>0.0</td>\n",
              "      <td>0.352</td>\n",
              "      <td>0.648</td>\n",
              "      <td>0.9169</td>\n",
              "    </tr>\n",
              "    <tr>\n",
              "      <th>1</th>\n",
              "      <td>elon musks tesla revealed second quaer update ...</td>\n",
              "      <td>2022-07-24 05:00:33</td>\n",
              "      <td>0.0</td>\n",
              "      <td>1.000</td>\n",
              "      <td>0.000</td>\n",
              "      <td>0.0000</td>\n",
              "    </tr>\n",
              "    <tr>\n",
              "      <th>2</th>\n",
              "      <td>markfarentino felicity boulavard atbook distri...</td>\n",
              "      <td>2022-07-24 05:00:10</td>\n",
              "      <td>0.0</td>\n",
              "      <td>1.000</td>\n",
              "      <td>0.000</td>\n",
              "      <td>0.0000</td>\n",
              "    </tr>\n",
              "    <tr>\n",
              "      <th>3</th>\n",
              "      <td>lunchwithelonm day 102 asking elonmusk lunch e...</td>\n",
              "      <td>2022-07-24 05:00:01</td>\n",
              "      <td>0.0</td>\n",
              "      <td>1.000</td>\n",
              "      <td>0.000</td>\n",
              "      <td>0.0000</td>\n",
              "    </tr>\n",
              "    <tr>\n",
              "      <th>4</th>\n",
              "      <td>elonmusk avrupa amerika receptayyiperdogan jap...</td>\n",
              "      <td>2022-07-24 04:59:19</td>\n",
              "      <td>0.0</td>\n",
              "      <td>1.000</td>\n",
              "      <td>0.000</td>\n",
              "      <td>0.0000</td>\n",
              "    </tr>\n",
              "  </tbody>\n",
              "</table>\n",
              "</div>\n",
              "      <button class=\"colab-df-convert\" onclick=\"convertToInteractive('df-c4ef6c47-e946-4233-94f0-83ee16cac93d')\"\n",
              "              title=\"Convert this dataframe to an interactive table.\"\n",
              "              style=\"display:none;\">\n",
              "        \n",
              "  <svg xmlns=\"http://www.w3.org/2000/svg\" height=\"24px\"viewBox=\"0 0 24 24\"\n",
              "       width=\"24px\">\n",
              "    <path d=\"M0 0h24v24H0V0z\" fill=\"none\"/>\n",
              "    <path d=\"M18.56 5.44l.94 2.06.94-2.06 2.06-.94-2.06-.94-.94-2.06-.94 2.06-2.06.94zm-11 1L8.5 8.5l.94-2.06 2.06-.94-2.06-.94L8.5 2.5l-.94 2.06-2.06.94zm10 10l.94 2.06.94-2.06 2.06-.94-2.06-.94-.94-2.06-.94 2.06-2.06.94z\"/><path d=\"M17.41 7.96l-1.37-1.37c-.4-.4-.92-.59-1.43-.59-.52 0-1.04.2-1.43.59L10.3 9.45l-7.72 7.72c-.78.78-.78 2.05 0 2.83L4 21.41c.39.39.9.59 1.41.59.51 0 1.02-.2 1.41-.59l7.78-7.78 2.81-2.81c.8-.78.8-2.07 0-2.86zM5.41 20L4 18.59l7.72-7.72 1.47 1.35L5.41 20z\"/>\n",
              "  </svg>\n",
              "      </button>\n",
              "      \n",
              "  <style>\n",
              "    .colab-df-container {\n",
              "      display:flex;\n",
              "      flex-wrap:wrap;\n",
              "      gap: 12px;\n",
              "    }\n",
              "\n",
              "    .colab-df-convert {\n",
              "      background-color: #E8F0FE;\n",
              "      border: none;\n",
              "      border-radius: 50%;\n",
              "      cursor: pointer;\n",
              "      display: none;\n",
              "      fill: #1967D2;\n",
              "      height: 32px;\n",
              "      padding: 0 0 0 0;\n",
              "      width: 32px;\n",
              "    }\n",
              "\n",
              "    .colab-df-convert:hover {\n",
              "      background-color: #E2EBFA;\n",
              "      box-shadow: 0px 1px 2px rgba(60, 64, 67, 0.3), 0px 1px 3px 1px rgba(60, 64, 67, 0.15);\n",
              "      fill: #174EA6;\n",
              "    }\n",
              "\n",
              "    [theme=dark] .colab-df-convert {\n",
              "      background-color: #3B4455;\n",
              "      fill: #D2E3FC;\n",
              "    }\n",
              "\n",
              "    [theme=dark] .colab-df-convert:hover {\n",
              "      background-color: #434B5C;\n",
              "      box-shadow: 0px 1px 3px 1px rgba(0, 0, 0, 0.15);\n",
              "      filter: drop-shadow(0px 1px 2px rgba(0, 0, 0, 0.3));\n",
              "      fill: #FFFFFF;\n",
              "    }\n",
              "  </style>\n",
              "\n",
              "      <script>\n",
              "        const buttonEl =\n",
              "          document.querySelector('#df-c4ef6c47-e946-4233-94f0-83ee16cac93d button.colab-df-convert');\n",
              "        buttonEl.style.display =\n",
              "          google.colab.kernel.accessAllowed ? 'block' : 'none';\n",
              "\n",
              "        async function convertToInteractive(key) {\n",
              "          const element = document.querySelector('#df-c4ef6c47-e946-4233-94f0-83ee16cac93d');\n",
              "          const dataTable =\n",
              "            await google.colab.kernel.invokeFunction('convertToInteractive',\n",
              "                                                     [key], {});\n",
              "          if (!dataTable) return;\n",
              "\n",
              "          const docLinkHtml = 'Like what you see? Visit the ' +\n",
              "            '<a target=\"_blank\" href=https://colab.research.google.com/notebooks/data_table.ipynb>data table notebook</a>'\n",
              "            + ' to learn more about interactive tables.';\n",
              "          element.innerHTML = '';\n",
              "          dataTable['output_type'] = 'display_data';\n",
              "          await google.colab.output.renderOutput(dataTable, element);\n",
              "          const docLink = document.createElement('div');\n",
              "          docLink.innerHTML = docLinkHtml;\n",
              "          element.appendChild(docLink);\n",
              "        }\n",
              "      </script>\n",
              "    </div>\n",
              "  </div>\n",
              "  "
            ]
          },
          "metadata": {},
          "execution_count": 46
        }
      ]
    },
    {
      "cell_type": "code",
      "source": [
        "\n",
        "\n",
        "df_c['Sentiment']=np.where(df_c['compound']>=0,'Positive','Negative')\n",
        "df_c.head(10)\n",
        "\n"
      ],
      "metadata": {
        "colab": {
          "base_uri": "https://localhost:8080/",
          "height": 363
        },
        "id": "9395Bl3nph0x",
        "outputId": "d829ac8d-06b4-47de-fc6d-0773d82e18ca"
      },
      "execution_count": 48,
      "outputs": [
        {
          "output_type": "execute_result",
          "data": {
            "text/plain": [
              "                                              Tweets           Timestamp  \\\n",
              "0  metabilliards meta billiards challange click p... 2022-07-24 05:00:47   \n",
              "1  elon musks tesla revealed second quaer update ... 2022-07-24 05:00:33   \n",
              "2  markfarentino felicity boulavard atbook distri... 2022-07-24 05:00:10   \n",
              "3  lunchwithelonm day 102 asking elonmusk lunch e... 2022-07-24 05:00:01   \n",
              "4  elonmusk avrupa amerika receptayyiperdogan jap... 2022-07-24 04:59:19   \n",
              "5  eze_fi 1 retweet 2 follow us twitter discord i... 2022-07-24 04:58:23   \n",
              "6  saudishibtoken tomorrow great day saudishibain... 2022-07-24 04:57:57   \n",
              "7  squadron_five serious nfts serious metaverse s... 2022-07-24 04:56:22   \n",
              "8  tolandeka rightly said elonmusk aificialintell... 2022-07-24 04:56:17   \n",
              "9  rightly said elonmusk aificialintelligence far... 2022-07-24 04:56:12   \n",
              "\n",
              "     neg    neu    pos  compound Sentiment  \n",
              "0  0.000  0.352  0.648    0.9169  Positive  \n",
              "1  0.000  1.000  0.000    0.0000  Positive  \n",
              "2  0.000  1.000  0.000    0.0000  Positive  \n",
              "3  0.000  1.000  0.000    0.0000  Positive  \n",
              "4  0.000  1.000  0.000    0.0000  Positive  \n",
              "5  0.137  0.863  0.000   -0.4019  Negative  \n",
              "6  0.000  0.709  0.291    0.6249  Positive  \n",
              "7  0.281  0.719  0.000   -0.2263  Negative  \n",
              "8  0.307  0.693  0.000   -0.4767  Negative  \n",
              "9  0.341  0.659  0.000   -0.4767  Negative  "
            ],
            "text/html": [
              "\n",
              "  <div id=\"df-d3801a53-02ad-41a7-9607-0d98fd706394\">\n",
              "    <div class=\"colab-df-container\">\n",
              "      <div>\n",
              "<style scoped>\n",
              "    .dataframe tbody tr th:only-of-type {\n",
              "        vertical-align: middle;\n",
              "    }\n",
              "\n",
              "    .dataframe tbody tr th {\n",
              "        vertical-align: top;\n",
              "    }\n",
              "\n",
              "    .dataframe thead th {\n",
              "        text-align: right;\n",
              "    }\n",
              "</style>\n",
              "<table border=\"1\" class=\"dataframe\">\n",
              "  <thead>\n",
              "    <tr style=\"text-align: right;\">\n",
              "      <th></th>\n",
              "      <th>Tweets</th>\n",
              "      <th>Timestamp</th>\n",
              "      <th>neg</th>\n",
              "      <th>neu</th>\n",
              "      <th>pos</th>\n",
              "      <th>compound</th>\n",
              "      <th>Sentiment</th>\n",
              "    </tr>\n",
              "  </thead>\n",
              "  <tbody>\n",
              "    <tr>\n",
              "      <th>0</th>\n",
              "      <td>metabilliards meta billiards challange click p...</td>\n",
              "      <td>2022-07-24 05:00:47</td>\n",
              "      <td>0.000</td>\n",
              "      <td>0.352</td>\n",
              "      <td>0.648</td>\n",
              "      <td>0.9169</td>\n",
              "      <td>Positive</td>\n",
              "    </tr>\n",
              "    <tr>\n",
              "      <th>1</th>\n",
              "      <td>elon musks tesla revealed second quaer update ...</td>\n",
              "      <td>2022-07-24 05:00:33</td>\n",
              "      <td>0.000</td>\n",
              "      <td>1.000</td>\n",
              "      <td>0.000</td>\n",
              "      <td>0.0000</td>\n",
              "      <td>Positive</td>\n",
              "    </tr>\n",
              "    <tr>\n",
              "      <th>2</th>\n",
              "      <td>markfarentino felicity boulavard atbook distri...</td>\n",
              "      <td>2022-07-24 05:00:10</td>\n",
              "      <td>0.000</td>\n",
              "      <td>1.000</td>\n",
              "      <td>0.000</td>\n",
              "      <td>0.0000</td>\n",
              "      <td>Positive</td>\n",
              "    </tr>\n",
              "    <tr>\n",
              "      <th>3</th>\n",
              "      <td>lunchwithelonm day 102 asking elonmusk lunch e...</td>\n",
              "      <td>2022-07-24 05:00:01</td>\n",
              "      <td>0.000</td>\n",
              "      <td>1.000</td>\n",
              "      <td>0.000</td>\n",
              "      <td>0.0000</td>\n",
              "      <td>Positive</td>\n",
              "    </tr>\n",
              "    <tr>\n",
              "      <th>4</th>\n",
              "      <td>elonmusk avrupa amerika receptayyiperdogan jap...</td>\n",
              "      <td>2022-07-24 04:59:19</td>\n",
              "      <td>0.000</td>\n",
              "      <td>1.000</td>\n",
              "      <td>0.000</td>\n",
              "      <td>0.0000</td>\n",
              "      <td>Positive</td>\n",
              "    </tr>\n",
              "    <tr>\n",
              "      <th>5</th>\n",
              "      <td>eze_fi 1 retweet 2 follow us twitter discord i...</td>\n",
              "      <td>2022-07-24 04:58:23</td>\n",
              "      <td>0.137</td>\n",
              "      <td>0.863</td>\n",
              "      <td>0.000</td>\n",
              "      <td>-0.4019</td>\n",
              "      <td>Negative</td>\n",
              "    </tr>\n",
              "    <tr>\n",
              "      <th>6</th>\n",
              "      <td>saudishibtoken tomorrow great day saudishibain...</td>\n",
              "      <td>2022-07-24 04:57:57</td>\n",
              "      <td>0.000</td>\n",
              "      <td>0.709</td>\n",
              "      <td>0.291</td>\n",
              "      <td>0.6249</td>\n",
              "      <td>Positive</td>\n",
              "    </tr>\n",
              "    <tr>\n",
              "      <th>7</th>\n",
              "      <td>squadron_five serious nfts serious metaverse s...</td>\n",
              "      <td>2022-07-24 04:56:22</td>\n",
              "      <td>0.281</td>\n",
              "      <td>0.719</td>\n",
              "      <td>0.000</td>\n",
              "      <td>-0.2263</td>\n",
              "      <td>Negative</td>\n",
              "    </tr>\n",
              "    <tr>\n",
              "      <th>8</th>\n",
              "      <td>tolandeka rightly said elonmusk aificialintell...</td>\n",
              "      <td>2022-07-24 04:56:17</td>\n",
              "      <td>0.307</td>\n",
              "      <td>0.693</td>\n",
              "      <td>0.000</td>\n",
              "      <td>-0.4767</td>\n",
              "      <td>Negative</td>\n",
              "    </tr>\n",
              "    <tr>\n",
              "      <th>9</th>\n",
              "      <td>rightly said elonmusk aificialintelligence far...</td>\n",
              "      <td>2022-07-24 04:56:12</td>\n",
              "      <td>0.341</td>\n",
              "      <td>0.659</td>\n",
              "      <td>0.000</td>\n",
              "      <td>-0.4767</td>\n",
              "      <td>Negative</td>\n",
              "    </tr>\n",
              "  </tbody>\n",
              "</table>\n",
              "</div>\n",
              "      <button class=\"colab-df-convert\" onclick=\"convertToInteractive('df-d3801a53-02ad-41a7-9607-0d98fd706394')\"\n",
              "              title=\"Convert this dataframe to an interactive table.\"\n",
              "              style=\"display:none;\">\n",
              "        \n",
              "  <svg xmlns=\"http://www.w3.org/2000/svg\" height=\"24px\"viewBox=\"0 0 24 24\"\n",
              "       width=\"24px\">\n",
              "    <path d=\"M0 0h24v24H0V0z\" fill=\"none\"/>\n",
              "    <path d=\"M18.56 5.44l.94 2.06.94-2.06 2.06-.94-2.06-.94-.94-2.06-.94 2.06-2.06.94zm-11 1L8.5 8.5l.94-2.06 2.06-.94-2.06-.94L8.5 2.5l-.94 2.06-2.06.94zm10 10l.94 2.06.94-2.06 2.06-.94-2.06-.94-.94-2.06-.94 2.06-2.06.94z\"/><path d=\"M17.41 7.96l-1.37-1.37c-.4-.4-.92-.59-1.43-.59-.52 0-1.04.2-1.43.59L10.3 9.45l-7.72 7.72c-.78.78-.78 2.05 0 2.83L4 21.41c.39.39.9.59 1.41.59.51 0 1.02-.2 1.41-.59l7.78-7.78 2.81-2.81c.8-.78.8-2.07 0-2.86zM5.41 20L4 18.59l7.72-7.72 1.47 1.35L5.41 20z\"/>\n",
              "  </svg>\n",
              "      </button>\n",
              "      \n",
              "  <style>\n",
              "    .colab-df-container {\n",
              "      display:flex;\n",
              "      flex-wrap:wrap;\n",
              "      gap: 12px;\n",
              "    }\n",
              "\n",
              "    .colab-df-convert {\n",
              "      background-color: #E8F0FE;\n",
              "      border: none;\n",
              "      border-radius: 50%;\n",
              "      cursor: pointer;\n",
              "      display: none;\n",
              "      fill: #1967D2;\n",
              "      height: 32px;\n",
              "      padding: 0 0 0 0;\n",
              "      width: 32px;\n",
              "    }\n",
              "\n",
              "    .colab-df-convert:hover {\n",
              "      background-color: #E2EBFA;\n",
              "      box-shadow: 0px 1px 2px rgba(60, 64, 67, 0.3), 0px 1px 3px 1px rgba(60, 64, 67, 0.15);\n",
              "      fill: #174EA6;\n",
              "    }\n",
              "\n",
              "    [theme=dark] .colab-df-convert {\n",
              "      background-color: #3B4455;\n",
              "      fill: #D2E3FC;\n",
              "    }\n",
              "\n",
              "    [theme=dark] .colab-df-convert:hover {\n",
              "      background-color: #434B5C;\n",
              "      box-shadow: 0px 1px 3px 1px rgba(0, 0, 0, 0.15);\n",
              "      filter: drop-shadow(0px 1px 2px rgba(0, 0, 0, 0.3));\n",
              "      fill: #FFFFFF;\n",
              "    }\n",
              "  </style>\n",
              "\n",
              "      <script>\n",
              "        const buttonEl =\n",
              "          document.querySelector('#df-d3801a53-02ad-41a7-9607-0d98fd706394 button.colab-df-convert');\n",
              "        buttonEl.style.display =\n",
              "          google.colab.kernel.accessAllowed ? 'block' : 'none';\n",
              "\n",
              "        async function convertToInteractive(key) {\n",
              "          const element = document.querySelector('#df-d3801a53-02ad-41a7-9607-0d98fd706394');\n",
              "          const dataTable =\n",
              "            await google.colab.kernel.invokeFunction('convertToInteractive',\n",
              "                                                     [key], {});\n",
              "          if (!dataTable) return;\n",
              "\n",
              "          const docLinkHtml = 'Like what you see? Visit the ' +\n",
              "            '<a target=\"_blank\" href=https://colab.research.google.com/notebooks/data_table.ipynb>data table notebook</a>'\n",
              "            + ' to learn more about interactive tables.';\n",
              "          element.innerHTML = '';\n",
              "          dataTable['output_type'] = 'display_data';\n",
              "          await google.colab.output.renderOutput(dataTable, element);\n",
              "          const docLink = document.createElement('div');\n",
              "          docLink.innerHTML = docLinkHtml;\n",
              "          element.appendChild(docLink);\n",
              "        }\n",
              "      </script>\n",
              "    </div>\n",
              "  </div>\n",
              "  "
            ]
          },
          "metadata": {},
          "execution_count": 48
        }
      ]
    },
    {
      "cell_type": "code",
      "source": [
        "result=df_c['Sentiment'].value_counts()\n",
        "result.plot(kind='bar',rot=0,color=['Green','Red'])"
      ],
      "metadata": {
        "colab": {
          "base_uri": "https://localhost:8080/",
          "height": 300
        },
        "id": "ZdTJZktNp2Wx",
        "outputId": "f921967d-c774-4f60-ac30-a0c130d9c6c4"
      },
      "execution_count": 49,
      "outputs": [
        {
          "output_type": "execute_result",
          "data": {
            "text/plain": [
              "<matplotlib.axes._subplots.AxesSubplot at 0x7f91cccb9c10>"
            ]
          },
          "metadata": {},
          "execution_count": 49
        },
        {
          "output_type": "display_data",
          "data": {
            "text/plain": [
              "<Figure size 432x288 with 1 Axes>"
            ],
            "image/png": "[encoded data removed]"
          },
          "metadata": {}
        }
      ]
    }
  ],
  "metadata": {
    "colab": {
      "name": "Sent.ipynb",
      "provenance": [],
      "authorship_tag": "ABX9TyOakuyMrmbmStpfZu1rMR5J",
      "include_colab_link": true
    },
    "kernelspec": {
      "display_name": "Python 3",
      "name": "python3"
    },
    "language_info": {
      "name": "python"
    }
  },
  "nbformat": 4,
  "nbformat_minor": 0
}