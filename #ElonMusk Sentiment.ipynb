{
  "cells": [
    {
      "cell_type": "markdown",
      "metadata": {
        "id": "view-in-github",
        "colab_type": "text"
      },
      "source": [
        "<a href=\"https://colab.research.google.com/github/heyronith/sentimentalanalysis/blob/main/%23ElonMusk%20Sentiment.ipynb\" target=\"_parent\"><img src=\"https://colab.research.google.com/assets/colab-badge.svg\" alt=\"Open In Colab\"/></a>"
      ]
    },
    {
      "cell_type": "code",
      "execution_count": null,
      "metadata": {
        "id": "0nhBehjdxOdi"
      },
      "outputs": [],
      "source": [
        "import tweepy as tw\n",
        "import pandas as pd\n",
        "import numpy as np\n",
        "from textblob import TextBlob\n",
        "from wordcloud import WordCloud\n",
        "import re\n",
        "import matplotlib.pyplot as plt\n",
        "plt.style.use('fivethirtyeight') \n"
      ]
    },
    {
      "cell_type": "code",
      "execution_count": null,
      "metadata": {
        "id": "wS8AoqQgyaj6"
      },
      "outputs": [],
      "source": [
        "consumer_key='RcD7RUVV88gYcb6wCPqbMyoo7'\n",
        "consumer_secret='Qxe2AFUqa5aYUJyFOyhcDZxBUNQEULyaK9FgEs0InrwerQ728r'\n",
        "access_token='1547442958382809088-YETJJNxPDMjemqyur9iMhziDvcnpB1'\n",
        "access_token_secret='ziL6UZXaUlAwgkuj29f6Z9BVrGS7b1cdeSS4U4nilcFAC'"
      ]
    },
    {
      "cell_type": "code",
      "execution_count": null,
      "metadata": {
        "id": "fUtjY23EykLx"
      },
      "outputs": [],
      "source": [
        "#auth twitter\n",
        "\n",
        "auth= tw.OAuthHandler(consumer_key,consumer_secret)\n",
        "auth.set_access_token(access_token,access_token_secret)\n",
        "api= tw.API(auth,wait_on_rate_limit=True)"
      ]
    },
    {
      "cell_type": "code",
      "execution_count": null,
      "metadata": {
        "id": "UeuVrj76y7fy"
      },
      "outputs": [],
      "source": [
        "#getting the tweets\n",
        "hashtag = '#ElonMusk'\n",
        "query= tw.Cursor(api.search, q=hashtag).items(1000)\n",
        "tweets=[{\"Tweets\":tweet.text, 'Timestamp':tweet.created_at} for tweet in query]\n"
      ]
    },
    {
      "cell_type": "code",
      "source": [
        "print(tweets)"
      ],
      "metadata": {
        "id": "H8KzQ-JXY9SA"
      },
      "execution_count": null,
      "outputs": []
    },
    {
      "cell_type": "code",
      "source": [
        "df=pd.DataFrame(tweets)"
      ],
      "metadata": {
        "id": "flGNRy_cY_HU"
      },
      "execution_count": null,
      "outputs": []
    },
    {
      "cell_type": "code",
      "source": [
        "df"
      ],
      "metadata": {
        "id": "JjSC85eAnjQU"
      },
      "execution_count": null,
      "outputs": []
    },
    {
      "cell_type": "code",
      "source": [
        "import re\n",
        "import nltk\n",
        "nltk.download('stopwords')\n",
        "from nltk.corpus import stopwords\n",
        "stop=stopwords.words('english')\n",
        "\n",
        "def func(text):\n",
        "  text = text.lower()\n",
        "  text = re.sub(r\"(@\\[A-Za-z0-9]+)|([^0-9A-Za-z \\t])|(\\w+:\\/\\/\\S+)|^rt|http.+?\", \"\", text)\n",
        "  text = \" \".join([word for word in text.split() if word not in (stop)])\n",
        "  return text\n",
        "\n",
        "\n"
      ],
      "metadata": {
        "id": "zMIjAsbymggv"
      },
      "execution_count": null,
      "outputs": []
    },
    {
      "cell_type": "code",
      "source": [
        "df[\"sweep\"]=df[\"Tweets\"].apply(func)"
      ],
      "metadata": {
        "id": "wUfg5p3Hm_Df"
      },
      "execution_count": null,
      "outputs": []
    },
    {
      "cell_type": "code",
      "source": [
        "df"
      ],
      "metadata": {
        "id": "22FNP1LYoicM"
      },
      "execution_count": null,
      "outputs": []
    },
    {
      "cell_type": "code",
      "source": [
        "!pip install vaderSentiment\n",
        "!pip install Seaborn"
      ],
      "metadata": {
        "id": "qlz1anjSa3K9"
      },
      "execution_count": null,
      "outputs": []
    },
    {
      "cell_type": "code",
      "source": [
        "\n",
        "import nltk \n",
        "import nltk.data\n",
        "from vaderSentiment.vaderSentiment import SentimentIntensityAnalyzer\n",
        "\n",
        "A=SentimentIntensityAnalyzer()"
      ],
      "metadata": {
        "id": "pozdvPx6osRp"
      },
      "execution_count": null,
      "outputs": []
    },
    {
      "cell_type": "code",
      "source": [
        "emptyline=[]\n",
        "for row in df['Tweets']:\n",
        "    r=A.polarity_scores(row)\n",
        "    emptyline.append(r)"
      ],
      "metadata": {
        "id": "K01cDWy9pJRN"
      },
      "execution_count": null,
      "outputs": []
    },
    {
      "cell_type": "code",
      "source": [
        "newdf=pd.DataFrame(emptyline)\n",
        "newdf.tail()"
      ],
      "metadata": {
        "id": "m0D4RPa_pLyA"
      },
      "execution_count": null,
      "outputs": []
    },
    {
      "cell_type": "code",
      "source": [
        "\n",
        "\n",
        "#adding this newdf to the actual dataset\n",
        "\n",
        "df_c=pd.concat([df.reset_index(drop=True),newdf],axis=1)\n",
        "df_c.head()\n",
        "\n"
      ],
      "metadata": {
        "id": "aH3qPUNJpZg4"
      },
      "execution_count": null,
      "outputs": []
    },
    {
      "cell_type": "code",
      "source": [
        "\n",
        "\n",
        "df_c['Sentiment']=np.where(df_c['compound']>=0,'Positive','Negative')\n",
        "df_c.head(10)\n",
        "\n"
      ],
      "metadata": {
        "id": "9395Bl3nph0x"
      },
      "execution_count": null,
      "outputs": []
    },
    {
      "cell_type": "code",
      "source": [
        "result=df_c['Sentiment'].value_counts()\n",
        "result.plot(kind='bar',rot=0,color=['Green','Red'])"
      ],
      "metadata": {
        "id": "ZdTJZktNp2Wx"
      },
      "execution_count": null,
      "outputs": []
    }
  ],
  "metadata": {
    "colab": {
      "name": "Sent.ipynb",
      "provenance": [],
      "authorship_tag": "ABX9TyOa6WMZeeZMcNJfd0RBeYFr",
      "include_colab_link": true
    },
    "kernelspec": {
      "display_name": "Python 3",
      "name": "python3"
    },
    "language_info": {
      "name": "python"
    }
  },
  "nbformat": 4,
  "nbformat_minor": 0
}